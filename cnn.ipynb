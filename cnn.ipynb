{
 "cells": [
  {
   "cell_type": "code",
   "execution_count": 1,
   "id": "44272f4e",
   "metadata": {
    "_cell_guid": "b1076dfc-b9ad-4769-8c92-a6c4dae69d19",
    "_uuid": "8f2839f25d086af736a60e9eeb907d3b93b6e0e5",
    "execution": {
     "iopub.execute_input": "2022-04-05T14:08:38.408736Z",
     "iopub.status.busy": "2022-04-05T14:08:38.407911Z",
     "iopub.status.idle": "2022-04-05T14:08:38.413676Z",
     "shell.execute_reply": "2022-04-05T14:08:38.414246Z",
     "shell.execute_reply.started": "2022-04-05T14:01:14.824251Z"
    },
    "papermill": {
     "duration": 0.038355,
     "end_time": "2022-04-05T14:08:38.414526",
     "exception": false,
     "start_time": "2022-04-05T14:08:38.376171",
     "status": "completed"
    },
    "tags": []
   },
   "outputs": [
    {
     "name": "stdout",
     "output_type": "stream",
     "text": [
      "/kaggle/input/ml-assignment-cl-ii-lab/euroSAT_train_val_test.pkl\n"
     ]
    }
   ],
   "source": [
    "# This Python 3 environment comes with many helpful analytics libraries installed\n",
    "# It is defined by the kaggle/python Docker image: https://github.com/kaggle/docker-python\n",
    "# For example, here's several helpful packages to load\n",
    "\n",
    "import numpy as np # linear algebra\n",
    "import pandas as pd # data processing, CSV file I/O (e.g. pd.read_csv)\n",
    "\n",
    "# Input data files are available in the read-only \"../input/\" directory\n",
    "# For example, running this (by clicking run or pressing Shift+Enter) will list all files under the input directory\n",
    "\n",
    "import os\n",
    "for dirname, _, filenames in os.walk('/kaggle/input'):\n",
    "    for filename in filenames:\n",
    "        print(os.path.join(dirname, filename))\n",
    "\n",
    "# You can write up to 20GB to the current directory (/kaggle/working/) that gets preserved as output when you create a version using \"Save & Run All\" \n",
    "# You can also write temporary files to /kaggle/temp/, but they won't be saved outside of the current session"
   ]
  },
  {
   "cell_type": "code",
   "execution_count": 2,
   "id": "92a64132",
   "metadata": {
    "execution": {
     "iopub.execute_input": "2022-04-05T14:08:38.459695Z",
     "iopub.status.busy": "2022-04-05T14:08:38.459132Z",
     "iopub.status.idle": "2022-04-05T14:08:39.845688Z",
     "shell.execute_reply": "2022-04-05T14:08:39.844829Z",
     "shell.execute_reply.started": "2022-04-05T14:01:16.266939Z"
    },
    "papermill": {
     "duration": 1.410312,
     "end_time": "2022-04-05T14:08:39.845893",
     "exception": false,
     "start_time": "2022-04-05T14:08:38.435581",
     "status": "completed"
    },
    "tags": []
   },
   "outputs": [],
   "source": [
    "import torch\n",
    "torch.manual_seed(12)\n",
    "import random\n",
    "random.seed(12)\n",
    "import numpy as np\n",
    "np.random.seed(12)"
   ]
  },
  {
   "cell_type": "code",
   "execution_count": 3,
   "id": "3ed92ddc",
   "metadata": {
    "execution": {
     "iopub.execute_input": "2022-04-05T14:08:39.891764Z",
     "iopub.status.busy": "2022-04-05T14:08:39.888097Z",
     "iopub.status.idle": "2022-04-05T14:08:40.960904Z",
     "shell.execute_reply": "2022-04-05T14:08:40.961658Z",
     "shell.execute_reply.started": "2022-04-05T14:01:19.405621Z"
    },
    "papermill": {
     "duration": 1.096105,
     "end_time": "2022-04-05T14:08:40.961884",
     "exception": false,
     "start_time": "2022-04-05T14:08:39.865779",
     "status": "completed"
    },
    "tags": []
   },
   "outputs": [],
   "source": [
    "import seaborn as sns\n",
    "import pandas as pd\n",
    "import pickle\n",
    "import matplotlib.pyplot as plt\n",
    "import torch\n",
    "import torchvision\n",
    "import torchvision.transforms as transforms\n",
    "import torch.nn as nn\n",
    "import torch.optim as optim\n",
    "import torch.nn.functional as F\n",
    "from sklearn import metrics\n",
    "from sklearn.metrics import accuracy_score, confusion_matrix\n",
    "from sklearn.model_selection import train_test_split"
   ]
  },
  {
   "cell_type": "code",
   "execution_count": 4,
   "id": "56f688ca",
   "metadata": {
    "execution": {
     "iopub.execute_input": "2022-04-05T14:08:41.036116Z",
     "iopub.status.busy": "2022-04-05T14:08:41.035385Z",
     "iopub.status.idle": "2022-04-05T14:08:51.797180Z",
     "shell.execute_reply": "2022-04-05T14:08:51.798019Z",
     "shell.execute_reply.started": "2022-04-05T14:01:23.264848Z"
    },
    "papermill": {
     "duration": 10.803527,
     "end_time": "2022-04-05T14:08:51.798312",
     "exception": false,
     "start_time": "2022-04-05T14:08:40.994785",
     "status": "completed"
    },
    "tags": []
   },
   "outputs": [
    {
     "name": "stdout",
     "output_type": "stream",
     "text": [
      "18792 2808 5400\n",
      "(3, 64, 64) 7\n"
     ]
    }
   ],
   "source": [
    "import pickle\n",
    "with open(\"/kaggle/input/ml-assignment-cl-ii-lab/euroSAT_train_val_test.pkl\", \"rb\") as f:\n",
    "    train_set, val_set, test_set = pickle.load(f)\n",
    "print(len(train_set), len(val_set),  len(test_set))\n",
    "print(train_set[0][0].shape, train_set[0][1])"
   ]
  },
  {
   "cell_type": "code",
   "execution_count": 5,
   "id": "4e198e38",
   "metadata": {
    "execution": {
     "iopub.execute_input": "2022-04-05T14:08:51.874012Z",
     "iopub.status.busy": "2022-04-05T14:08:51.873191Z",
     "iopub.status.idle": "2022-04-05T14:08:51.875602Z",
     "shell.execute_reply": "2022-04-05T14:08:51.876266Z",
     "shell.execute_reply.started": "2022-04-05T14:01:37.335652Z"
    },
    "papermill": {
     "duration": 0.041631,
     "end_time": "2022-04-05T14:08:51.876452",
     "exception": false,
     "start_time": "2022-04-05T14:08:51.834821",
     "status": "completed"
    },
    "tags": []
   },
   "outputs": [],
   "source": [
    "label_to_class_mapping = {\n",
    "    0 : \"AnnualCrop\",\n",
    "    1 : \"Forest\",\n",
    "    2 : \"HerbaceousVegetation\",\n",
    "    3 : \"Highway\",\n",
    "    4 : \"Industrial\",\n",
    "    5 : \"Pasture\",\n",
    "    6 : \"PermanentCrop\",\n",
    "    7 : \"Residential\",\n",
    "    8 : \"River\",\n",
    "    9 : \"SeaLake\"\n",
    "}"
   ]
  },
  {
   "cell_type": "code",
   "execution_count": 6,
   "id": "42158d19",
   "metadata": {
    "execution": {
     "iopub.execute_input": "2022-04-05T14:08:51.952730Z",
     "iopub.status.busy": "2022-04-05T14:08:51.952037Z",
     "iopub.status.idle": "2022-04-05T14:08:51.953928Z",
     "shell.execute_reply": "2022-04-05T14:08:51.954477Z",
     "shell.execute_reply.started": "2022-04-05T14:01:39.435306Z"
    },
    "papermill": {
     "duration": 0.042578,
     "end_time": "2022-04-05T14:08:51.954640",
     "exception": false,
     "start_time": "2022-04-05T14:08:51.912062",
     "status": "completed"
    },
    "tags": []
   },
   "outputs": [],
   "source": [
    "from torch.utils.data import DataLoader\n",
    "train_dataloader = DataLoader(train_set, batch_size=64, shuffle=True)\n",
    "test_dataloader = DataLoader(test_set, batch_size=64, shuffle=False)\n",
    "val_dataloader = DataLoader(val_set)"
   ]
  },
  {
   "cell_type": "code",
   "execution_count": 7,
   "id": "d0d90f21",
   "metadata": {
    "execution": {
     "iopub.execute_input": "2022-04-05T14:08:52.031124Z",
     "iopub.status.busy": "2022-04-05T14:08:52.030526Z",
     "iopub.status.idle": "2022-04-05T14:08:52.277203Z",
     "shell.execute_reply": "2022-04-05T14:08:52.275676Z",
     "shell.execute_reply.started": "2022-04-05T14:01:41.288374Z"
    },
    "papermill": {
     "duration": 0.288429,
     "end_time": "2022-04-05T14:08:52.277376",
     "exception": false,
     "start_time": "2022-04-05T14:08:51.988947",
     "status": "completed"
    },
    "tags": []
   },
   "outputs": [
    {
     "name": "stdout",
     "output_type": "stream",
     "text": [
      "Feature batch shape: torch.Size([64, 3, 64, 64])\n",
      "Labels batch shape: torch.Size([64])\n"
     ]
    },
    {
     "data": {
      "image/png": "[encoded data removed]",
      "text/plain": [
       "<Figure size 432x288 with 1 Axes>"
      ]
     },
     "metadata": {
      "needs_background": "light"
     },
     "output_type": "display_data"
    },
    {
     "name": "stdout",
     "output_type": "stream",
     "text": [
      "Label: HerbaceousVegetation\n"
     ]
    }
   ],
   "source": [
    "train_features, train_labels = next(iter(train_dataloader))\n",
    "print(f\"Feature batch shape: {train_features.size()}\")\n",
    "print(f\"Labels batch shape: {train_labels.size()}\")\n",
    "img = train_features[0].squeeze()\n",
    "label = train_labels[0].item()\n",
    "# img.permute : C * W * H -> W * H * C\n",
    "plt.imshow(img.permute(1,2, 0), cmap=\"gray\")\n",
    "plt.show()\n",
    "print(f\"Label: {label_to_class_mapping[label]}\")"
   ]
  },
  {
   "cell_type": "code",
   "execution_count": 8,
   "id": "5c9b8fe6",
   "metadata": {
    "execution": {
     "iopub.execute_input": "2022-04-05T14:08:52.335713Z",
     "iopub.status.busy": "2022-04-05T14:08:52.334752Z",
     "iopub.status.idle": "2022-04-05T14:08:55.192486Z",
     "shell.execute_reply": "2022-04-05T14:08:55.191828Z",
     "shell.execute_reply.started": "2022-04-05T14:01:43.823983Z"
    },
    "papermill": {
     "duration": 2.891964,
     "end_time": "2022-04-05T14:08:55.192657",
     "exception": false,
     "start_time": "2022-04-05T14:08:52.300693",
     "status": "completed"
    },
    "tags": []
   },
   "outputs": [
    {
     "name": "stdout",
     "output_type": "stream",
     "text": [
      "CNN(\n",
      "  (conv1): Conv2d(3, 64, kernel_size=(3, 3), stride=(2, 2), padding=(1, 1))\n",
      "  (relu1): ReLU()\n",
      "  (mp1): MaxPool2d(kernel_size=2, stride=2, padding=0, dilation=1, ceil_mode=False)\n",
      "  (conv2): Conv2d(64, 96, kernel_size=(3, 3), stride=(1, 1), padding=(1, 1))\n",
      "  (relu2): ReLU()\n",
      "  (mp2): MaxPool2d(kernel_size=2, stride=2, padding=0, dilation=1, ceil_mode=False)\n",
      "  (conv3): Conv2d(96, 192, kernel_size=(3, 3), stride=(1, 1), padding=(1, 1))\n",
      "  (relu3): ReLU()\n",
      "  (mp3): MaxPool2d(kernel_size=2, stride=2, padding=0, dilation=1, ceil_mode=False)\n",
      "  (f): Flatten(start_dim=1, end_dim=-1)\n",
      "  (linear): Linear(in_features=3072, out_features=1024, bias=True)\n",
      "  (relu4): ReLU()\n",
      "  (dropout): Dropout(p=0.5, inplace=False)\n",
      "  (linear2): Linear(in_features=1024, out_features=512, bias=True)\n",
      "  (relu5): ReLU()\n",
      "  (o): Linear(in_features=512, out_features=10, bias=True)\n",
      ")\n"
     ]
    }
   ],
   "source": [
    "class CNN(nn.Module):\n",
    "    def __init__(self, num_classes=10):\n",
    "        super(CNN, self).__init__()\n",
    "        self.conv1 = nn.Conv2d(in_channels=3, out_channels=64, kernel_size=3, stride=2, padding=1)\n",
    "        self.relu1 = nn.ReLU()\n",
    "        self.mp1 = nn.MaxPool2d(kernel_size=2)\n",
    "        \n",
    "        self.conv2 = nn.Conv2d(in_channels=64, out_channels=96, kernel_size=3, padding=1)\n",
    "        self.relu2 = nn.ReLU()\n",
    "        self.mp2 = nn.MaxPool2d(kernel_size=2)\n",
    "        \n",
    "        self.conv3 = nn.Conv2d(in_channels=96, out_channels=192, kernel_size=3, padding=1)\n",
    "        self.relu3 = nn.ReLU()\n",
    "        self.mp3 = nn.MaxPool2d(kernel_size=2)\n",
    "        \n",
    "        self.f = nn.Flatten()\n",
    "        self.linear = nn.Linear(in_features=192*4*4, out_features=1024)\n",
    "        self.relu4 = nn.ReLU()\n",
    "        \n",
    "        self.dropout = nn.Dropout(p=0.5)\n",
    "        self.linear2 = nn.Linear(in_features=1024, out_features=512)\n",
    "        self.relu5 = nn.ReLU()\n",
    "        \n",
    "        self.o = nn.Linear(in_features=512, out_features=num_classes)\n",
    "        \n",
    "    def forward(self, x):\n",
    "        x = self.conv1(x)\n",
    "        x = self.relu1(x)\n",
    "        x = self.mp1(x)\n",
    "        \n",
    "        x = self.conv2(x)\n",
    "        x = self.relu2(x)\n",
    "        x = self.mp2(x)\n",
    "        \n",
    "        x = self.conv3(x)\n",
    "        x = self.relu3(x)\n",
    "        x = self.mp3(x)\n",
    "        \n",
    "        x = self.f(x)\n",
    "        x = self.linear(x)\n",
    "        x = self.relu4(x)\n",
    "        \n",
    "        x = self.dropout(x)\n",
    "        x = self.linear2(x)\n",
    "        x = self.relu5(x)\n",
    "        \n",
    "        x = self.o(x)\n",
    "        \n",
    "        return x\n",
    "\n",
    "\n",
    "device = \"cpu\"\n",
    "if (torch.cuda.is_available()):\n",
    "    # if GPU available, use cuda (on a cpu, training will take a considerable length of time!)\n",
    "    device = \"cuda\"\n",
    "\n",
    "# Create an instance of the model class and allocate it to the device\n",
    "model = CNN(num_classes=10).to(device)\n",
    "\n",
    "print(model)"
   ]
  },
  {
   "cell_type": "code",
   "execution_count": 9,
   "id": "a69fda5d",
   "metadata": {
    "execution": {
     "iopub.execute_input": "2022-04-05T14:08:55.247701Z",
     "iopub.status.busy": "2022-04-05T14:08:55.246107Z",
     "iopub.status.idle": "2022-04-05T14:08:55.248264Z",
     "shell.execute_reply": "2022-04-05T14:08:55.248784Z",
     "shell.execute_reply.started": "2022-04-05T14:01:46.650712Z"
    },
    "papermill": {
     "duration": 0.033445,
     "end_time": "2022-04-05T14:08:55.248920",
     "exception": false,
     "start_time": "2022-04-05T14:08:55.215475",
     "status": "completed"
    },
    "tags": []
   },
   "outputs": [],
   "source": [
    "def train(model, device, train_loader, optimizer, epoch):\n",
    "    # Set the model to training mode\n",
    "    model.train()\n",
    "    train_loss = 0\n",
    "    print(\"Epoch:\", epoch)\n",
    "    correct = 0\n",
    "    # Process the images in batches\n",
    "    for batch_idx, (data, target) in enumerate(train_loader):\n",
    "        data, target = data.to(device), target.to(device)\n",
    "        \n",
    "        # Reset the optimizer\n",
    "        optimizer.zero_grad()\n",
    "        \n",
    "        # Push the data forward through the model layers\n",
    "        output = model(data)\n",
    "        \n",
    "        # Calculate the accuracy for this batch\n",
    "        _, predicted = torch.max(output.data, 1)\n",
    "        correct += torch.sum(target==predicted).item()\n",
    "\n",
    "        # Get the loss\n",
    "        loss = loss_criteria(output, target)\n",
    "\n",
    "        # Keep a running total\n",
    "        train_loss += loss.item()\n",
    "        \n",
    "        # Backpropagate\n",
    "        loss.backward()\n",
    "        optimizer.step()\n",
    "        \n",
    "        # Print metrics so we see some progress\n",
    "#         print('\\tTraining batch {} Loss: {:.6f}'.format(batch_idx + 1, loss.item()))\n",
    "            \n",
    "    # return average loss for the epoch\n",
    "    avg_loss = train_loss / (batch_idx+1)\n",
    "    acc = 100. * correct / len(train_loader.dataset)\n",
    "    print('Training set: Average loss: {:.6f}, Accuracy: {}/{} ({:.0f}%)'.format(\n",
    "        avg_loss, correct, len(train_loader.dataset),\n",
    "        100. * correct / len(train_loader.dataset)))\n",
    "    return avg_loss, acc"
   ]
  },
  {
   "cell_type": "code",
   "execution_count": 10,
   "id": "69d4d5ac",
   "metadata": {
    "execution": {
     "iopub.execute_input": "2022-04-05T14:08:55.300580Z",
     "iopub.status.busy": "2022-04-05T14:08:55.299846Z",
     "iopub.status.idle": "2022-04-05T14:08:55.302220Z",
     "shell.execute_reply": "2022-04-05T14:08:55.301831Z",
     "shell.execute_reply.started": "2022-04-05T14:01:47.957976Z"
    },
    "papermill": {
     "duration": 0.031484,
     "end_time": "2022-04-05T14:08:55.302341",
     "exception": false,
     "start_time": "2022-04-05T14:08:55.270857",
     "status": "completed"
    },
    "tags": []
   },
   "outputs": [],
   "source": [
    "def test(model, device, test_loader):\n",
    "    # Switch the model to evaluation mode (so we don't backpropagate or drop)\n",
    "    model.eval()\n",
    "    test_loss = 0\n",
    "    correct = 0\n",
    "    with torch.no_grad():\n",
    "        batch_count = 0\n",
    "        for data, target in test_loader:\n",
    "            batch_count += 1\n",
    "            data, target = data.to(device), target.to(device)\n",
    "            \n",
    "            # Get the predicted classes for this batch\n",
    "            output = model(data)\n",
    "            \n",
    "            # Calculate the loss for this batch\n",
    "            test_loss += loss_criteria(output, target).item()\n",
    "            \n",
    "            # Calculate the accuracy for this batch\n",
    "            _, predicted = torch.max(output.data, 1)\n",
    "            correct += torch.sum(target==predicted).item()\n",
    "\n",
    "    # Calculate the average loss and total accuracy for this epoch\n",
    "    avg_loss = test_loss / batch_count\n",
    "    acc = 100. * correct / len(test_loader.dataset)\n",
    "    print('Validation set: Average loss: {:.6f}, Accuracy: {}/{} ({:.0f}%)\\n'.format(\n",
    "        avg_loss, correct, len(test_loader.dataset),\n",
    "        100. * correct / len(test_loader.dataset)))\n",
    "    \n",
    "    # return average loss for the epoch\n",
    "    return avg_loss, acc"
   ]
  },
  {
   "cell_type": "code",
   "execution_count": 11,
   "id": "7119b1f1",
   "metadata": {
    "execution": {
     "iopub.execute_input": "2022-04-05T14:08:55.351714Z",
     "iopub.status.busy": "2022-04-05T14:08:55.350995Z",
     "iopub.status.idle": "2022-04-05T14:08:55.352955Z",
     "shell.execute_reply": "2022-04-05T14:08:55.353348Z",
     "shell.execute_reply.started": "2022-04-05T10:45:51.05165Z"
    },
    "papermill": {
     "duration": 0.027677,
     "end_time": "2022-04-05T14:08:55.353475",
     "exception": false,
     "start_time": "2022-04-05T14:08:55.325798",
     "status": "completed"
    },
    "tags": []
   },
   "outputs": [],
   "source": [
    "import os\n",
    "os.makedirs(\"logs_cnn\")"
   ]
  },
  {
   "cell_type": "code",
   "execution_count": 12,
   "id": "36d3c099",
   "metadata": {
    "execution": {
     "iopub.execute_input": "2022-04-05T14:08:55.408095Z",
     "iopub.status.busy": "2022-04-05T14:08:55.407137Z",
     "iopub.status.idle": "2022-04-05T14:10:38.738267Z",
     "shell.execute_reply": "2022-04-05T14:10:38.738740Z",
     "shell.execute_reply.started": "2022-04-05T10:51:24.537496Z"
    },
    "papermill": {
     "duration": 103.363078,
     "end_time": "2022-04-05T14:10:38.738914",
     "exception": false,
     "start_time": "2022-04-05T14:08:55.375836",
     "status": "completed"
    },
    "tags": []
   },
   "outputs": [
    {
     "name": "stdout",
     "output_type": "stream",
     "text": [
      "CNN(\n",
      "  (conv1): Conv2d(3, 64, kernel_size=(3, 3), stride=(2, 2), padding=(1, 1))\n",
      "  (relu1): ReLU()\n",
      "  (mp1): MaxPool2d(kernel_size=2, stride=2, padding=0, dilation=1, ceil_mode=False)\n",
      "  (conv2): Conv2d(64, 96, kernel_size=(3, 3), stride=(1, 1), padding=(1, 1))\n",
      "  (relu2): ReLU()\n",
      "  (mp2): MaxPool2d(kernel_size=2, stride=2, padding=0, dilation=1, ceil_mode=False)\n",
      "  (conv3): Conv2d(96, 192, kernel_size=(3, 3), stride=(1, 1), padding=(1, 1))\n",
      "  (relu3): ReLU()\n",
      "  (mp3): MaxPool2d(kernel_size=2, stride=2, padding=0, dilation=1, ceil_mode=False)\n",
      "  (f): Flatten(start_dim=1, end_dim=-1)\n",
      "  (linear): Linear(in_features=3072, out_features=1024, bias=True)\n",
      "  (relu4): ReLU()\n",
      "  (dropout): Dropout(p=0.5, inplace=False)\n",
      "  (linear2): Linear(in_features=1024, out_features=512, bias=True)\n",
      "  (relu5): ReLU()\n",
      "  (o): Linear(in_features=512, out_features=10, bias=True)\n",
      ")\n",
      "Training on cuda\n",
      "Epoch: 1\n",
      "Training set: Average loss: 1.394133, Accuracy: 8562/18792 (46%)\n",
      "Validation set: Average loss: 0.885379, Accuracy: 1905/2808 (68%)\n",
      "\n",
      "Found best model at valiation loss = 0.8853791500477385\n",
      "\n",
      "Epoch: 2\n",
      "Training set: Average loss: 0.846744, Accuracy: 12965/18792 (69%)\n",
      "Validation set: Average loss: 0.721879, Accuracy: 2093/2808 (75%)\n",
      "\n",
      "Found best model at valiation loss = 0.7218794052450644\n",
      "\n",
      "Epoch: 3\n",
      "Training set: Average loss: 0.734994, Accuracy: 13775/18792 (73%)\n",
      "Validation set: Average loss: 0.713217, Accuracy: 2087/2808 (74%)\n",
      "\n",
      "Found best model at valiation loss = 0.7132165995212858\n",
      "\n",
      "Epoch: 4\n",
      "Training set: Average loss: 0.630719, Accuracy: 14541/18792 (77%)\n",
      "Validation set: Average loss: 0.700513, Accuracy: 2098/2808 (75%)\n",
      "\n",
      "Found best model at valiation loss = 0.7005132639776643\n",
      "\n",
      "Epoch: 5\n",
      "Training set: Average loss: 0.577295, Accuracy: 14881/18792 (79%)\n",
      "Validation set: Average loss: 0.532561, Accuracy: 2270/2808 (81%)\n",
      "\n",
      "Found best model at valiation loss = 0.5325609051461241\n",
      "\n",
      "Epoch: 6\n",
      "Training set: Average loss: 0.516742, Accuracy: 15343/18792 (82%)\n",
      "Validation set: Average loss: 0.495018, Accuracy: 2329/2808 (83%)\n",
      "\n",
      "Found best model at valiation loss = 0.49501792481877294\n",
      "\n",
      "Epoch: 7\n",
      "Training set: Average loss: 0.470381, Accuracy: 15661/18792 (83%)\n",
      "Validation set: Average loss: 0.474140, Accuracy: 2343/2808 (83%)\n",
      "\n",
      "Found best model at valiation loss = 0.47413972394086246\n",
      "\n",
      "Epoch: 8\n",
      "Training set: Average loss: 0.431813, Accuracy: 15894/18792 (85%)\n",
      "Validation set: Average loss: 0.477116, Accuracy: 2369/2808 (84%)\n",
      "\n",
      "Epoch: 9\n",
      "Training set: Average loss: 0.394250, Accuracy: 16191/18792 (86%)\n",
      "Validation set: Average loss: 0.397938, Accuracy: 2421/2808 (86%)\n",
      "\n",
      "Found best model at valiation loss = 0.3979383545561717\n",
      "\n",
      "Epoch: 10\n",
      "Training set: Average loss: 0.351313, Accuracy: 16483/18792 (88%)\n",
      "Validation set: Average loss: 0.396676, Accuracy: 2446/2808 (87%)\n",
      "\n",
      "Found best model at valiation loss = 0.3966761475782172\n",
      "\n",
      "Epoch: 11\n",
      "Training set: Average loss: 0.325148, Accuracy: 16639/18792 (89%)\n",
      "Validation set: Average loss: 0.416819, Accuracy: 2387/2808 (85%)\n",
      "\n",
      "Epoch: 12\n",
      "Training set: Average loss: 0.318527, Accuracy: 16694/18792 (89%)\n",
      "Validation set: Average loss: 0.420130, Accuracy: 2404/2808 (86%)\n",
      "\n",
      "Epoch: 13\n",
      "Training set: Average loss: 0.278981, Accuracy: 16944/18792 (90%)\n",
      "Validation set: Average loss: 0.389643, Accuracy: 2446/2808 (87%)\n",
      "\n",
      "Found best model at valiation loss = 0.3896433707179847\n",
      "\n",
      "Epoch: 14\n",
      "Training set: Average loss: 0.251990, Accuracy: 17126/18792 (91%)\n",
      "Validation set: Average loss: 0.426542, Accuracy: 2436/2808 (87%)\n",
      "\n",
      "Epoch: 15\n",
      "Training set: Average loss: 0.228396, Accuracy: 17271/18792 (92%)\n",
      "Validation set: Average loss: 0.365822, Accuracy: 2470/2808 (88%)\n",
      "\n",
      "Found best model at valiation loss = 0.36582208441883457\n",
      "\n",
      "Epoch: 16\n",
      "Training set: Average loss: 0.193146, Accuracy: 17550/18792 (93%)\n",
      "Validation set: Average loss: 0.400656, Accuracy: 2453/2808 (87%)\n",
      "\n",
      "Epoch: 17\n",
      "Training set: Average loss: 0.186345, Accuracy: 17554/18792 (93%)\n",
      "Validation set: Average loss: 0.385290, Accuracy: 2482/2808 (88%)\n",
      "\n",
      "Epoch: 18\n",
      "Training set: Average loss: 0.179620, Accuracy: 17606/18792 (94%)\n",
      "Validation set: Average loss: 0.381481, Accuracy: 2485/2808 (88%)\n",
      "\n",
      "Epoch: 19\n",
      "Training set: Average loss: 0.171343, Accuracy: 17685/18792 (94%)\n",
      "Validation set: Average loss: 0.474415, Accuracy: 2441/2808 (87%)\n",
      "\n",
      "Epoch: 20\n",
      "Training set: Average loss: 0.151850, Accuracy: 17792/18792 (95%)\n",
      "Validation set: Average loss: 0.493730, Accuracy: 2422/2808 (86%)\n",
      "\n"
     ]
    }
   ],
   "source": [
    "# Create an instance of the model class and allocate it to the device\n",
    "model = CNN(num_classes=10).to(device)\n",
    "\n",
    "print(model)\n",
    "\n",
    "# Use an \"Adam\" optimizer to adjust weights\n",
    "optimizer = optim.Adam(model.parameters(), lr=0.001)\n",
    "\n",
    "# Specify the loss criteria\n",
    "loss_criteria = nn.CrossEntropyLoss()\n",
    "\n",
    "# Track metrics in these arrays\n",
    "epoch_nums = []\n",
    "training_loss = []\n",
    "training_accuracy = []\n",
    "validation_loss = []\n",
    "validation_accuracy = []\n",
    "\n",
    "epochs = 20 \n",
    "k = 3 # patience\n",
    "up = 0\n",
    "\n",
    "min_validation_loss = float('inf')\n",
    "best_model_path = \"logs_cnn/best_model.pth\"\n",
    "\n",
    "print(f'Training on', device)\n",
    "for epoch in range(1, epochs + 1):\n",
    "        train_loss, train_acc = train(model, device, train_dataloader, optimizer, epoch)\n",
    "        val_loss, val_acc = test(model, device, val_dataloader)\n",
    "\n",
    "        epoch_nums.append(epoch)\n",
    "        training_loss.append(train_loss)\n",
    "        validation_loss.append(val_loss)\n",
    "        training_accuracy.append(train_acc)\n",
    "        validation_accuracy.append(val_acc)\n",
    "\n",
    "        if val_loss < min_validation_loss:\n",
    "            min_validation_loss = val_loss\n",
    "            torch.save(model, best_model_path)\n",
    "            print(f\"Found best model at valiation loss = {min_validation_loss}\\n\")\n",
    "        \n",
    "        if epoch >= k:\n",
    "            # if validation loss does not improve over last k epochs (patience) stop\n",
    "            if val_loss >= validation_loss[-2]:\n",
    "                up += 1\n",
    "            else:\n",
    "                up = 0\n",
    "\n",
    "            if up == k:\n",
    "                # early stopping\n",
    "                print(f\"Early Stopping Training: Validation Loss = {val_loss}\")\n",
    "                break"
   ]
  },
  {
   "cell_type": "markdown",
   "id": "8a7114dc",
   "metadata": {
    "papermill": {
     "duration": 0.033783,
     "end_time": "2022-04-05T14:10:38.807193",
     "exception": false,
     "start_time": "2022-04-05T14:10:38.773410",
     "status": "completed"
    },
    "tags": []
   },
   "source": [
    "# Visualizing Training"
   ]
  },
  {
   "cell_type": "code",
   "execution_count": 13,
   "id": "ef218a11",
   "metadata": {
    "execution": {
     "iopub.execute_input": "2022-04-05T14:10:38.896990Z",
     "iopub.status.busy": "2022-04-05T14:10:38.896428Z",
     "iopub.status.idle": "2022-04-05T14:10:39.263274Z",
     "shell.execute_reply": "2022-04-05T14:10:39.263705Z",
     "shell.execute_reply.started": "2022-04-05T10:48:25.109044Z"
    },
    "papermill": {
     "duration": 0.422171,
     "end_time": "2022-04-05T14:10:39.263858",
     "exception": false,
     "start_time": "2022-04-05T14:10:38.841687",
     "status": "completed"
    },
    "tags": []
   },
   "outputs": [
    {
     "data": {
      "image/png": "[encoded data removed]",
      "text/plain": [
       "<Figure size 2160x1080 with 2 Axes>"
      ]
     },
     "metadata": {
      "needs_background": "light"
     },
     "output_type": "display_data"
    }
   ],
   "source": [
    "fig, (ax1, ax2) = plt.subplots(1, 2, figsize=(30, 15))\n",
    "\n",
    "ax1.plot(epoch_nums, training_loss)\n",
    "ax1.plot(epoch_nums, validation_loss)\n",
    "ax1.set_xlabel('epoch')\n",
    "ax1.set_ylabel('Loss')\n",
    "ax1.legend(['training', 'validation'], loc='upper right')\n",
    "\n",
    "ax2.plot(epoch_nums, training_accuracy)\n",
    "ax2.plot(epoch_nums, validation_accuracy)\n",
    "ax2.set_xlabel('epoch')\n",
    "ax2.set_ylabel('Accuracy (%)')\n",
    "ax2.legend(['training', 'validation'], loc='upper right')\n",
    "\n",
    "\n",
    "plt.show()"
   ]
  },
  {
   "cell_type": "markdown",
   "id": "facfa8b1",
   "metadata": {
    "papermill": {
     "duration": 0.036757,
     "end_time": "2022-04-05T14:10:39.337092",
     "exception": false,
     "start_time": "2022-04-05T14:10:39.300335",
     "status": "completed"
    },
    "tags": []
   },
   "source": [
    "# Saving and Loading Best Model"
   ]
  },
  {
   "cell_type": "markdown",
   "id": "64dd989e",
   "metadata": {
    "papermill": {
     "duration": 0.036018,
     "end_time": "2022-04-05T14:10:39.409670",
     "exception": false,
     "start_time": "2022-04-05T14:10:39.373652",
     "status": "completed"
    },
    "tags": []
   },
   "source": [
    "## Loading Best Model from Google Drive\n",
    "\n",
    "Run this section only if you want to download the best weight model from google drive into Kaggle VM"
   ]
  },
  {
   "cell_type": "code",
   "execution_count": 14,
   "id": "57517cb0",
   "metadata": {
    "execution": {
     "iopub.execute_input": "2022-04-05T14:10:39.490851Z",
     "iopub.status.busy": "2022-04-05T14:10:39.490086Z",
     "iopub.status.idle": "2022-04-05T14:11:14.185014Z",
     "shell.execute_reply": "2022-04-05T14:11:14.185558Z",
     "shell.execute_reply.started": "2022-04-05T14:05:06.192092Z"
    },
    "papermill": {
     "duration": 34.739196,
     "end_time": "2022-04-05T14:11:14.185708",
     "exception": false,
     "start_time": "2022-04-05T14:10:39.446512",
     "status": "completed"
    },
    "tags": []
   },
   "outputs": [
    {
     "name": "stdout",
     "output_type": "stream",
     "text": [
      "Collecting gdown\r\n",
      "  Downloading gdown-4.4.0.tar.gz (14 kB)\r\n",
      "  Installing build dependencies ... \u001b[?25l-\b \b\\\b \b|\b \b/\b \bdone\r\n",
      "\u001b[?25h  Getting requirements to build wheel ... \u001b[?25l-\b \b\\\b \b|\b \b/\b \b-\b \bdone\r\n",
      "\u001b[?25h  Preparing metadata (pyproject.toml) ... \u001b[?25l-\b \b\\\b \b|\b \b/\b \b-\b \bdone\r\n",
      "\u001b[?25hRequirement already satisfied: requests[socks] in /opt/conda/lib/python3.7/site-packages (from gdown) (2.26.0)\r\n",
      "Requirement already satisfied: beautifulsoup4 in /opt/conda/lib/python3.7/site-packages (from gdown) (4.10.0)\r\n",
      "Requirement already satisfied: tqdm in /opt/conda/lib/python3.7/site-packages (from gdown) (4.62.3)\r\n",
      "Requirement already satisfied: filelock in /opt/conda/lib/python3.7/site-packages (from gdown) (3.6.0)\r\n",
      "Requirement already satisfied: six in /opt/conda/lib/python3.7/site-packages (from gdown) (1.16.0)\r\n",
      "Requirement already satisfied: soupsieve>1.2 in /opt/conda/lib/python3.7/site-packages (from beautifulsoup4->gdown) (2.3.1)\r\n",
      "Requirement already satisfied: idna<4,>=2.5 in /opt/conda/lib/python3.7/site-packages (from requests[socks]->gdown) (3.1)\r\n",
      "Requirement already satisfied: charset-normalizer~=2.0.0 in /opt/conda/lib/python3.7/site-packages (from requests[socks]->gdown) (2.0.9)\r\n",
      "Requirement already satisfied: urllib3<1.27,>=1.21.1 in /opt/conda/lib/python3.7/site-packages (from requests[socks]->gdown) (1.26.7)\r\n",
      "Requirement already satisfied: certifi>=2017.4.17 in /opt/conda/lib/python3.7/site-packages (from requests[socks]->gdown) (2021.10.8)\r\n",
      "Requirement already satisfied: PySocks!=1.5.7,>=1.5.6 in /opt/conda/lib/python3.7/site-packages (from requests[socks]->gdown) (1.7.1)\r\n",
      "Building wheels for collected packages: gdown\r\n",
      "  Building wheel for gdown (pyproject.toml) ... \u001b[?25l-\b \b\\\b \b|\b \b/\b \b-\b \b\\\b \b|\b \bdone\r\n",
      "\u001b[?25h  Created wheel for gdown: filename=gdown-4.4.0-py3-none-any.whl size=14775 sha256=4df9b0bdea595a2ada48957f69d4206c019354370f35ce04e0a0d504dddfa9f7\r\n",
      "  Stored in directory: /root/.cache/pip/wheels/fb/c3/0e/c4d8ff8bfcb0461afff199471449f642179b74968c15b7a69c\r\n",
      "Successfully built gdown\r\n",
      "Installing collected packages: gdown\r\n",
      "Successfully installed gdown-4.4.0\r\n",
      "\u001b[33mWARNING: Running pip as the 'root' user can result in broken permissions and conflicting behaviour with the system package manager. It is recommended to use a virtual environment instead: https://pip.pypa.io/warnings/venv\u001b[0m\r\n"
     ]
    },
    {
     "name": "stderr",
     "output_type": "stream",
     "text": [
      "Downloading...\n",
      "From: https://drive.google.com/uc?id=1ih8atvJtlni3HbwWgGPVr25rpkkQsgmw\n",
      "To: /kaggle/working/CL2_Assignment_8_Task_1.zip\n",
      "100%|██████████| 14.7M/14.7M [00:00<00:00, 28.7MB/s]\n"
     ]
    }
   ],
   "source": [
    "!pip install gdown\n",
    "\n",
    "import gdown\n",
    "from shutil import unpack_archive\n",
    "id = \"1ih8atvJtlni3HbwWgGPVr25rpkkQsgmw\"\n",
    "\n",
    "zip_file_name = \"CL2_Assignment_8_Task_1.zip\"\n",
    "extract_directory_name = \"CL2_Assignment_8_Task_1_Weights\"\n",
    "\n",
    "gdown.download(id=id, output=zip_file_name)\n",
    "unpack_archive(zip_file_name, extract_directory_name)\n",
    "\n",
    "import os\n",
    "os.remove(zip_file_name)\n",
    "\n",
    "best_model_path = extract_directory_name + \"/\" + \"logs_cnn\" + \"/\" + \"best_model.pth\"\n",
    "best_model = torch.load(best_model_path)"
   ]
  },
  {
   "cell_type": "markdown",
   "id": "884945c3",
   "metadata": {
    "papermill": {
     "duration": 0.0476,
     "end_time": "2022-04-05T14:11:14.281057",
     "exception": false,
     "start_time": "2022-04-05T14:11:14.233457",
     "status": "completed"
    },
    "tags": []
   },
   "source": [
    "## Load model from Kaggle VM"
   ]
  },
  {
   "cell_type": "code",
   "execution_count": 15,
   "id": "f212939c",
   "metadata": {
    "execution": {
     "iopub.execute_input": "2022-04-05T14:11:14.381364Z",
     "iopub.status.busy": "2022-04-05T14:11:14.380620Z",
     "iopub.status.idle": "2022-04-05T14:11:14.429400Z",
     "shell.execute_reply": "2022-04-05T14:11:14.429835Z",
     "shell.execute_reply.started": "2022-04-05T10:48:48.132984Z"
    },
    "papermill": {
     "duration": 0.100994,
     "end_time": "2022-04-05T14:11:14.429995",
     "exception": false,
     "start_time": "2022-04-05T14:11:14.329001",
     "status": "completed"
    },
    "tags": []
   },
   "outputs": [],
   "source": [
    "torch.save(model, best_model_path)\n",
    "best_model = torch.load(best_model_path)"
   ]
  },
  {
   "cell_type": "markdown",
   "id": "ee1b7e40",
   "metadata": {
    "papermill": {
     "duration": 0.047152,
     "end_time": "2022-04-05T14:11:14.525650",
     "exception": false,
     "start_time": "2022-04-05T14:11:14.478498",
     "status": "completed"
    },
    "tags": []
   },
   "source": [
    "## Reporting performance on validation data"
   ]
  },
  {
   "cell_type": "code",
   "execution_count": 16,
   "id": "b0c06ab5",
   "metadata": {
    "execution": {
     "iopub.execute_input": "2022-04-05T14:11:14.691984Z",
     "iopub.status.busy": "2022-04-05T14:11:14.691200Z",
     "iopub.status.idle": "2022-04-05T14:11:17.159041Z",
     "shell.execute_reply": "2022-04-05T14:11:17.159760Z",
     "shell.execute_reply.started": "2022-04-05T14:02:13.409494Z"
    },
    "papermill": {
     "duration": 2.570645,
     "end_time": "2022-04-05T14:11:17.159912",
     "exception": false,
     "start_time": "2022-04-05T14:11:14.589267",
     "status": "completed"
    },
    "tags": []
   },
   "outputs": [
    {
     "name": "stdout",
     "output_type": "stream",
     "text": [
      "Getting predictions from val set...\n",
      "Accuracy on validation data 86.25356125356126\n"
     ]
    }
   ],
   "source": [
    "classes = list(label_to_class_mapping.values())\n",
    "truelabels = []\n",
    "predictions = []\n",
    "best_model.eval()\n",
    "c, t = 0, 0\n",
    "print(\"Getting predictions from val set...\")\n",
    "with torch.no_grad():\n",
    "    for data, target in val_dataloader:\n",
    "        data = data.to(device)\n",
    "        for label in target.data.numpy():\n",
    "            truelabels.append(label)\n",
    "        for prediction in best_model(data).cpu().data.numpy().argmax(1):\n",
    "            predictions.append(prediction)\n",
    "\n",
    "for i in range(len(truelabels)):\n",
    "    if predictions[i] == truelabels[i]:\n",
    "        c += 1\n",
    "    t += 1\n",
    "\n",
    "print(f\"Accuracy on validation data {c*100/t}\")"
   ]
  },
  {
   "cell_type": "markdown",
   "id": "896ca6b5",
   "metadata": {
    "papermill": {
     "duration": 0.047627,
     "end_time": "2022-04-05T14:11:17.255753",
     "exception": false,
     "start_time": "2022-04-05T14:11:17.208126",
     "status": "completed"
    },
    "tags": []
   },
   "source": [
    "# Reporting Performance on Test Data\n"
   ]
  },
  {
   "cell_type": "code",
   "execution_count": 17,
   "id": "ce5fbc3d",
   "metadata": {
    "execution": {
     "iopub.execute_input": "2022-04-05T14:11:17.360694Z",
     "iopub.status.busy": "2022-04-05T14:11:17.359687Z",
     "iopub.status.idle": "2022-04-05T14:11:17.721814Z",
     "shell.execute_reply": "2022-04-05T14:11:17.722225Z",
     "shell.execute_reply.started": "2022-04-05T10:50:02.56274Z"
    },
    "papermill": {
     "duration": 0.41918,
     "end_time": "2022-04-05T14:11:17.722410",
     "exception": false,
     "start_time": "2022-04-05T14:11:17.303230",
     "status": "completed"
    },
    "tags": []
   },
   "outputs": [
    {
     "name": "stdout",
     "output_type": "stream",
     "text": [
      "Getting predictions from test set...\n",
      "Accuracy on test data 84.74074074074075\n"
     ]
    }
   ],
   "source": [
    "classes = list(label_to_class_mapping.values())\n",
    "truelabels = []\n",
    "predictions = []\n",
    "best_model.eval()\n",
    "c, t = 0, 0\n",
    "print(\"Getting predictions from test set...\")\n",
    "with torch.no_grad():\n",
    "    for data, target in test_dataloader:\n",
    "        data = data.to(device)\n",
    "        for label in target.data.numpy():\n",
    "            truelabels.append(label)\n",
    "        for prediction in best_model(data).cpu().data.numpy().argmax(1):\n",
    "            predictions.append(prediction)\n",
    "\n",
    "for i in range(len(truelabels)):\n",
    "    if predictions[i] == truelabels[i]:\n",
    "        c += 1\n",
    "    t += 1\n",
    "print(f\"Accuracy on test data {c*100/t}\")\n",
    "\n",
    "with open(\"predictions.csv\", \"w\") as f:\n",
    "    print(\"id,label\", file=f)\n",
    "    for i in range(len(truelabels)):\n",
    "        print(f\"{i},{predictions[i]}\", file=f)\n",
    "        "
   ]
  },
  {
   "cell_type": "markdown",
   "id": "c7299aef",
   "metadata": {
    "papermill": {
     "duration": 0.048213,
     "end_time": "2022-04-05T14:11:17.819876",
     "exception": false,
     "start_time": "2022-04-05T14:11:17.771663",
     "status": "completed"
    },
    "tags": []
   },
   "source": [
    "# Confusion Matrix on Test Set"
   ]
  },
  {
   "cell_type": "code",
   "execution_count": 18,
   "id": "cbbbb4b4",
   "metadata": {
    "execution": {
     "iopub.execute_input": "2022-04-05T14:11:17.926821Z",
     "iopub.status.busy": "2022-04-05T14:11:17.925447Z",
     "iopub.status.idle": "2022-04-05T14:11:18.840335Z",
     "shell.execute_reply": "2022-04-05T14:11:18.840929Z",
     "shell.execute_reply.started": "2022-04-05T10:50:53.581581Z"
    },
    "papermill": {
     "duration": 0.972633,
     "end_time": "2022-04-05T14:11:18.841098",
     "exception": false,
     "start_time": "2022-04-05T14:11:17.868465",
     "status": "completed"
    },
    "tags": []
   },
   "outputs": [
    {
     "name": "stdout",
     "output_type": "stream",
     "text": [
      "Getting predictions from test set...\n"
     ]
    },
    {
     "data": {
      "image/png": "[encoded data removed]",
      "text/plain": [
       "<Figure size 504x504 with 2 Axes>"
      ]
     },
     "metadata": {
      "needs_background": "light"
     },
     "output_type": "display_data"
    }
   ],
   "source": [
    "classes = list(label_to_class_mapping.values())\n",
    "truelabels = []\n",
    "predictions = []\n",
    "model.eval()\n",
    "print(\"Getting predictions from test set...\")\n",
    "with torch.no_grad():\n",
    "    for data, target in test_dataloader:\n",
    "        data = data.to(device)\n",
    "        for label in target.data.numpy():\n",
    "            truelabels.append(label)\n",
    "        for prediction in model(data).cpu().data.numpy().argmax(1):\n",
    "            predictions.append(prediction) \n",
    "\n",
    "# Plot the confusion matrix\n",
    "cm = confusion_matrix(truelabels, predictions)\n",
    "tick_marks = np.arange(len(classes))\n",
    "                       \n",
    "df_cm = pd.DataFrame(cm, index = classes, columns = classes)\n",
    "plt.figure(figsize = (7,7))\n",
    "sns.heatmap(df_cm, annot=True, cmap=plt.cm.Blues, fmt='g')\n",
    "plt.xlabel(\"Predicted Shape\", fontsize = 20)\n",
    "plt.ylabel(\"True Shape\", fontsize = 20)\n",
    "plt.show()"
   ]
  }
 ],
 "metadata": {
  "kernelspec": {
   "display_name": "Python 3",
   "language": "python",
   "name": "python3"
  },
  "language_info": {
   "codemirror_mode": {
    "name": "ipython",
    "version": 3
   },
   "file_extension": ".py",
   "mimetype": "text/x-python",
   "name": "python",
   "nbconvert_exporter": "python",
   "pygments_lexer": "ipython3",
   "version": "3.7.12"
  },
  "papermill": {
   "default_parameters": {},
   "duration": 169.771377,
   "end_time": "2022-04-05T14:11:20.405221",
   "environment_variables": {},
   "exception": null,
   "input_path": "__notebook__.ipynb",
   "output_path": "__notebook__.ipynb",
   "parameters": {},
   "start_time": "2022-04-05T14:08:30.633844",
   "version": "2.3.3"
  }
 },
 "nbformat": 4,
 "nbformat_minor": 5
}
