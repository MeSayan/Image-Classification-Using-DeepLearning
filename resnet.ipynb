{
 "cells": [
  {
   "cell_type": "code",
   "execution_count": 1,
   "id": "a964770e",
   "metadata": {
    "_cell_guid": "b1076dfc-b9ad-4769-8c92-a6c4dae69d19",
    "_uuid": "8f2839f25d086af736a60e9eeb907d3b93b6e0e5",
    "execution": {
     "iopub.execute_input": "2022-04-05T14:27:01.984231Z",
     "iopub.status.busy": "2022-04-05T14:27:01.982712Z",
     "iopub.status.idle": "2022-04-05T14:27:01.994678Z",
     "shell.execute_reply": "2022-04-05T14:27:01.995205Z",
     "shell.execute_reply.started": "2022-04-05T14:23:43.403031Z"
    },
    "papermill": {
     "duration": 0.053246,
     "end_time": "2022-04-05T14:27:01.995425",
     "exception": false,
     "start_time": "2022-04-05T14:27:01.942179",
     "status": "completed"
    },
    "tags": []
   },
   "outputs": [
    {
     "name": "stdout",
     "output_type": "stream",
     "text": [
      "/kaggle/input/ml-assignment-cl-ii-lab-task2-part1/euroSAT_train_val_test.pkl\n"
     ]
    }
   ],
   "source": [
    "# This Python 3 environment comes with many helpful analytics libraries installed\n",
    "# It is defined by the kaggle/python Docker image: https://github.com/kaggle/docker-python\n",
    "# For example, here's several helpful packages to load\n",
    "\n",
    "import numpy as np # linear algebra\n",
    "import pandas as pd # data processing, CSV file I/O (e.g. pd.read_csv)\n",
    "\n",
    "# Input data files are available in the read-only \"../input/\" directory\n",
    "# For example, running this (by clicking run or pressing Shift+Enter) will list all files under the input directory\n",
    "\n",
    "import os\n",
    "for dirname, _, filenames in os.walk('/kaggle/input'):\n",
    "    for filename in filenames:\n",
    "        print(os.path.join(dirname, filename))\n",
    "\n",
    "# You can write up to 20GB to the current directory (/kaggle/working/) that gets preserved as output when you create a version using \"Save & Run All\" \n",
    "# You can also write temporary files to /kaggle/temp/, but they won't be saved outside of the current session"
   ]
  },
  {
   "cell_type": "code",
   "execution_count": 2,
   "id": "429d2745",
   "metadata": {
    "execution": {
     "iopub.execute_input": "2022-04-05T14:27:02.050440Z",
     "iopub.status.busy": "2022-04-05T14:27:02.049814Z",
     "iopub.status.idle": "2022-04-05T14:27:03.468973Z",
     "shell.execute_reply": "2022-04-05T14:27:03.468514Z",
     "shell.execute_reply.started": "2022-04-05T14:23:44.781008Z"
    },
    "papermill": {
     "duration": 1.447024,
     "end_time": "2022-04-05T14:27:03.469152",
     "exception": false,
     "start_time": "2022-04-05T14:27:02.022128",
     "status": "completed"
    },
    "tags": []
   },
   "outputs": [],
   "source": [
    "import torch\n",
    "torch.manual_seed(12)\n",
    "import random\n",
    "random.seed(12)\n",
    "import numpy as np\n",
    "np.random.seed(12)"
   ]
  },
  {
   "cell_type": "code",
   "execution_count": 3,
   "id": "87e1d34c",
   "metadata": {
    "execution": {
     "iopub.execute_input": "2022-04-05T14:27:03.523391Z",
     "iopub.status.busy": "2022-04-05T14:27:03.520371Z",
     "iopub.status.idle": "2022-04-05T14:27:04.702473Z",
     "shell.execute_reply": "2022-04-05T14:27:04.701929Z",
     "shell.execute_reply.started": "2022-04-05T14:23:47.378254Z"
    },
    "papermill": {
     "duration": 1.208823,
     "end_time": "2022-04-05T14:27:04.702596",
     "exception": false,
     "start_time": "2022-04-05T14:27:03.493773",
     "status": "completed"
    },
    "tags": []
   },
   "outputs": [],
   "source": [
    "import seaborn as sns\n",
    "import pandas as pd\n",
    "import pickle\n",
    "import matplotlib.pyplot as plt\n",
    "import torch\n",
    "import torchvision\n",
    "import torchvision.transforms as transforms\n",
    "import torch.nn as nn\n",
    "import torch.optim as optim\n",
    "import torch.nn.functional as F\n",
    "from sklearn import metrics\n",
    "from sklearn.metrics import accuracy_score, confusion_matrix\n",
    "from sklearn.model_selection import train_test_split"
   ]
  },
  {
   "cell_type": "code",
   "execution_count": 4,
   "id": "d21c8d62",
   "metadata": {
    "execution": {
     "iopub.execute_input": "2022-04-05T14:27:04.758358Z",
     "iopub.status.busy": "2022-04-05T14:27:04.757637Z",
     "iopub.status.idle": "2022-04-05T14:27:15.670003Z",
     "shell.execute_reply": "2022-04-05T14:27:15.669561Z",
     "shell.execute_reply.started": "2022-04-05T14:23:49.337020Z"
    },
    "papermill": {
     "duration": 10.941906,
     "end_time": "2022-04-05T14:27:15.670150",
     "exception": false,
     "start_time": "2022-04-05T14:27:04.728244",
     "status": "completed"
    },
    "tags": []
   },
   "outputs": [
    {
     "name": "stdout",
     "output_type": "stream",
     "text": [
      "18792 2808 5400\n",
      "(3, 64, 64) 7\n"
     ]
    }
   ],
   "source": [
    "import pickle\n",
    "with open(\"/kaggle/input/ml-assignment-cl-ii-lab-task2-part1/euroSAT_train_val_test.pkl\", \"rb\") as f:\n",
    "    train_set, val_set, test_set = pickle.load(f)\n",
    "print(len(train_set), len(val_set),  len(test_set))\n",
    "print(train_set[0][0].shape, train_set[0][1])"
   ]
  },
  {
   "cell_type": "code",
   "execution_count": 5,
   "id": "c8ff54c8",
   "metadata": {
    "execution": {
     "iopub.execute_input": "2022-04-05T14:27:15.725839Z",
     "iopub.status.busy": "2022-04-05T14:27:15.724295Z",
     "iopub.status.idle": "2022-04-05T14:27:15.726466Z",
     "shell.execute_reply": "2022-04-05T14:27:15.726857Z",
     "shell.execute_reply.started": "2022-04-05T14:23:59.644163Z"
    },
    "papermill": {
     "duration": 0.032003,
     "end_time": "2022-04-05T14:27:15.726978",
     "exception": false,
     "start_time": "2022-04-05T14:27:15.694975",
     "status": "completed"
    },
    "tags": []
   },
   "outputs": [],
   "source": [
    "from torch.utils.data import DataLoader\n",
    "train_dataloader = DataLoader(train_set, batch_size=64, shuffle=True)\n",
    "test_dataloader = DataLoader(test_set, batch_size=64, shuffle=False)\n",
    "val_dataloader = DataLoader(val_set)"
   ]
  },
  {
   "cell_type": "code",
   "execution_count": 6,
   "id": "a89655e1",
   "metadata": {
    "execution": {
     "iopub.execute_input": "2022-04-05T14:27:15.781184Z",
     "iopub.status.busy": "2022-04-05T14:27:15.780467Z",
     "iopub.status.idle": "2022-04-05T14:27:15.782871Z",
     "shell.execute_reply": "2022-04-05T14:27:15.782491Z",
     "shell.execute_reply.started": "2022-04-05T14:23:59.651476Z"
    },
    "papermill": {
     "duration": 0.031339,
     "end_time": "2022-04-05T14:27:15.782977",
     "exception": false,
     "start_time": "2022-04-05T14:27:15.751638",
     "status": "completed"
    },
    "tags": []
   },
   "outputs": [],
   "source": [
    "label_to_class_mapping = {\n",
    "    0 : \"AnnualCrop\",\n",
    "    1 : \"Forest\",\n",
    "    2 : \"HerbaceousVegetation\",\n",
    "    3 : \"Highway\",\n",
    "    4 : \"Industrial\",\n",
    "    5 : \"Pasture\",\n",
    "    6 : \"PermanentCrop\",\n",
    "    7 : \"Residential\",\n",
    "    8 : \"River\",\n",
    "    9 : \"SeaLake\"\n",
    "}"
   ]
  },
  {
   "cell_type": "code",
   "execution_count": 7,
   "id": "0e4c707a",
   "metadata": {
    "execution": {
     "iopub.execute_input": "2022-04-05T14:27:15.840170Z",
     "iopub.status.busy": "2022-04-05T14:27:15.839596Z",
     "iopub.status.idle": "2022-04-05T14:27:16.068696Z",
     "shell.execute_reply": "2022-04-05T14:27:16.069335Z",
     "shell.execute_reply.started": "2022-04-05T14:24:02.566021Z"
    },
    "papermill": {
     "duration": 0.260016,
     "end_time": "2022-04-05T14:27:16.069492",
     "exception": false,
     "start_time": "2022-04-05T14:27:15.809476",
     "status": "completed"
    },
    "tags": []
   },
   "outputs": [
    {
     "name": "stdout",
     "output_type": "stream",
     "text": [
      "Feature batch shape: torch.Size([64, 3, 64, 64])\n",
      "Labels batch shape: torch.Size([64])\n"
     ]
    },
    {
     "data": {
      "image/png": "[encoded data removed]",
      "text/plain": [
       "<Figure size 432x288 with 1 Axes>"
      ]
     },
     "metadata": {
      "needs_background": "light"
     },
     "output_type": "display_data"
    },
    {
     "name": "stdout",
     "output_type": "stream",
     "text": [
      "Label: HerbaceousVegetation\n"
     ]
    }
   ],
   "source": [
    "train_features, train_labels = next(iter(train_dataloader))\n",
    "print(f\"Feature batch shape: {train_features.size()}\")\n",
    "print(f\"Labels batch shape: {train_labels.size()}\")\n",
    "img = train_features[0].squeeze()\n",
    "label = train_labels[0]\n",
    "# img.permute : C * W * H -> W * H * C\n",
    "plt.imshow(img.permute(1,2, 0), cmap=\"gray\")\n",
    "plt.show()\n",
    "print(f\"Label: {label_to_class_mapping[label.item()]}\")"
   ]
  },
  {
   "cell_type": "code",
   "execution_count": 8,
   "id": "39608390",
   "metadata": {
    "execution": {
     "iopub.execute_input": "2022-04-05T14:27:16.128311Z",
     "iopub.status.busy": "2022-04-05T14:27:16.127745Z",
     "iopub.status.idle": "2022-04-05T14:27:16.131254Z",
     "shell.execute_reply": "2022-04-05T14:27:16.130736Z",
     "shell.execute_reply.started": "2022-04-05T14:24:05.778736Z"
    },
    "papermill": {
     "duration": 0.034878,
     "end_time": "2022-04-05T14:27:16.131415",
     "exception": false,
     "start_time": "2022-04-05T14:27:16.096537",
     "status": "completed"
    },
    "tags": []
   },
   "outputs": [],
   "source": [
    "import torchvision.models as models"
   ]
  },
  {
   "cell_type": "code",
   "execution_count": 9,
   "id": "86909b58",
   "metadata": {
    "execution": {
     "iopub.execute_input": "2022-04-05T14:27:16.191070Z",
     "iopub.status.busy": "2022-04-05T14:27:16.189445Z",
     "iopub.status.idle": "2022-04-05T14:27:16.191644Z",
     "shell.execute_reply": "2022-04-05T14:27:16.192028Z",
     "shell.execute_reply.started": "2022-04-05T14:24:08.042144Z"
    },
    "papermill": {
     "duration": 0.034011,
     "end_time": "2022-04-05T14:27:16.192188",
     "exception": false,
     "start_time": "2022-04-05T14:27:16.158177",
     "status": "completed"
    },
    "tags": []
   },
   "outputs": [],
   "source": [
    "import ssl\n",
    "ssl._create_default_https_context = ssl._create_unverified_context"
   ]
  },
  {
   "cell_type": "code",
   "execution_count": 10,
   "id": "b62239ba",
   "metadata": {
    "execution": {
     "iopub.execute_input": "2022-04-05T14:27:16.254522Z",
     "iopub.status.busy": "2022-04-05T14:27:16.253741Z",
     "iopub.status.idle": "2022-04-05T14:27:16.256337Z",
     "shell.execute_reply": "2022-04-05T14:27:16.255874Z",
     "shell.execute_reply.started": "2022-04-05T14:24:09.876604Z"
    },
    "papermill": {
     "duration": 0.035724,
     "end_time": "2022-04-05T14:27:16.256454",
     "exception": false,
     "start_time": "2022-04-05T14:27:16.220730",
     "status": "completed"
    },
    "tags": []
   },
   "outputs": [],
   "source": [
    "class MyResnet(nn.Module):\n",
    "    def __init__(self, num_classes=10):\n",
    "        super(MyResnet, self).__init__()\n",
    "        self.network = models.resnet18(pretrained=True)\n",
    "#         for param in self.network.parameters():\n",
    "#             param.requires_grad = False\n",
    "        \n",
    "        self.network.fc = nn.Linear(in_features=512, out_features=num_classes) \n",
    "        \n",
    "    def forward(self, x):\n",
    "        x = self.network(x)\n",
    "        return x"
   ]
  },
  {
   "cell_type": "code",
   "execution_count": 11,
   "id": "591baf88",
   "metadata": {
    "execution": {
     "iopub.execute_input": "2022-04-05T14:27:16.361800Z",
     "iopub.status.busy": "2022-04-05T14:27:16.360614Z",
     "iopub.status.idle": "2022-04-05T14:27:21.859206Z",
     "shell.execute_reply": "2022-04-05T14:27:21.859855Z",
     "shell.execute_reply.started": "2022-04-05T14:24:11.862848Z"
    },
    "papermill": {
     "duration": 5.577247,
     "end_time": "2022-04-05T14:27:21.860079",
     "exception": false,
     "start_time": "2022-04-05T14:27:16.282832",
     "status": "completed"
    },
    "tags": []
   },
   "outputs": [
    {
     "name": "stderr",
     "output_type": "stream",
     "text": [
      "Downloading: \"https://download.pytorch.org/models/resnet18-f37072fd.pth\" to /root/.cache/torch/hub/checkpoints/resnet18-f37072fd.pth\n"
     ]
    },
    {
     "data": {
      "application/vnd.jupyter.widget-view+json": {
       "model_id": "99edabcd52454d3eb137d630fd5771c2",
       "version_major": 2,
       "version_minor": 0
      },
      "text/plain": [
       "  0%|          | 0.00/44.7M [00:00<?, ?B/s]"
      ]
     },
     "metadata": {},
     "output_type": "display_data"
    },
    {
     "name": "stdout",
     "output_type": "stream",
     "text": [
      "MyResnet(\n",
      "  (network): ResNet(\n",
      "    (conv1): Conv2d(3, 64, kernel_size=(7, 7), stride=(2, 2), padding=(3, 3), bias=False)\n",
      "    (bn1): BatchNorm2d(64, eps=1e-05, momentum=0.1, affine=True, track_running_stats=True)\n",
      "    (relu): ReLU(inplace=True)\n",
      "    (maxpool): MaxPool2d(kernel_size=3, stride=2, padding=1, dilation=1, ceil_mode=False)\n",
      "    (layer1): Sequential(\n",
      "      (0): BasicBlock(\n",
      "        (conv1): Conv2d(64, 64, kernel_size=(3, 3), stride=(1, 1), padding=(1, 1), bias=False)\n",
      "        (bn1): BatchNorm2d(64, eps=1e-05, momentum=0.1, affine=True, track_running_stats=True)\n",
      "        (relu): ReLU(inplace=True)\n",
      "        (conv2): Conv2d(64, 64, kernel_size=(3, 3), stride=(1, 1), padding=(1, 1), bias=False)\n",
      "        (bn2): BatchNorm2d(64, eps=1e-05, momentum=0.1, affine=True, track_running_stats=True)\n",
      "      )\n",
      "      (1): BasicBlock(\n",
      "        (conv1): Conv2d(64, 64, kernel_size=(3, 3), stride=(1, 1), padding=(1, 1), bias=False)\n",
      "        (bn1): BatchNorm2d(64, eps=1e-05, momentum=0.1, affine=True, track_running_stats=True)\n",
      "        (relu): ReLU(inplace=True)\n",
      "        (conv2): Conv2d(64, 64, kernel_size=(3, 3), stride=(1, 1), padding=(1, 1), bias=False)\n",
      "        (bn2): BatchNorm2d(64, eps=1e-05, momentum=0.1, affine=True, track_running_stats=True)\n",
      "      )\n",
      "    )\n",
      "    (layer2): Sequential(\n",
      "      (0): BasicBlock(\n",
      "        (conv1): Conv2d(64, 128, kernel_size=(3, 3), stride=(2, 2), padding=(1, 1), bias=False)\n",
      "        (bn1): BatchNorm2d(128, eps=1e-05, momentum=0.1, affine=True, track_running_stats=True)\n",
      "        (relu): ReLU(inplace=True)\n",
      "        (conv2): Conv2d(128, 128, kernel_size=(3, 3), stride=(1, 1), padding=(1, 1), bias=False)\n",
      "        (bn2): BatchNorm2d(128, eps=1e-05, momentum=0.1, affine=True, track_running_stats=True)\n",
      "        (downsample): Sequential(\n",
      "          (0): Conv2d(64, 128, kernel_size=(1, 1), stride=(2, 2), bias=False)\n",
      "          (1): BatchNorm2d(128, eps=1e-05, momentum=0.1, affine=True, track_running_stats=True)\n",
      "        )\n",
      "      )\n",
      "      (1): BasicBlock(\n",
      "        (conv1): Conv2d(128, 128, kernel_size=(3, 3), stride=(1, 1), padding=(1, 1), bias=False)\n",
      "        (bn1): BatchNorm2d(128, eps=1e-05, momentum=0.1, affine=True, track_running_stats=True)\n",
      "        (relu): ReLU(inplace=True)\n",
      "        (conv2): Conv2d(128, 128, kernel_size=(3, 3), stride=(1, 1), padding=(1, 1), bias=False)\n",
      "        (bn2): BatchNorm2d(128, eps=1e-05, momentum=0.1, affine=True, track_running_stats=True)\n",
      "      )\n",
      "    )\n",
      "    (layer3): Sequential(\n",
      "      (0): BasicBlock(\n",
      "        (conv1): Conv2d(128, 256, kernel_size=(3, 3), stride=(2, 2), padding=(1, 1), bias=False)\n",
      "        (bn1): BatchNorm2d(256, eps=1e-05, momentum=0.1, affine=True, track_running_stats=True)\n",
      "        (relu): ReLU(inplace=True)\n",
      "        (conv2): Conv2d(256, 256, kernel_size=(3, 3), stride=(1, 1), padding=(1, 1), bias=False)\n",
      "        (bn2): BatchNorm2d(256, eps=1e-05, momentum=0.1, affine=True, track_running_stats=True)\n",
      "        (downsample): Sequential(\n",
      "          (0): Conv2d(128, 256, kernel_size=(1, 1), stride=(2, 2), bias=False)\n",
      "          (1): BatchNorm2d(256, eps=1e-05, momentum=0.1, affine=True, track_running_stats=True)\n",
      "        )\n",
      "      )\n",
      "      (1): BasicBlock(\n",
      "        (conv1): Conv2d(256, 256, kernel_size=(3, 3), stride=(1, 1), padding=(1, 1), bias=False)\n",
      "        (bn1): BatchNorm2d(256, eps=1e-05, momentum=0.1, affine=True, track_running_stats=True)\n",
      "        (relu): ReLU(inplace=True)\n",
      "        (conv2): Conv2d(256, 256, kernel_size=(3, 3), stride=(1, 1), padding=(1, 1), bias=False)\n",
      "        (bn2): BatchNorm2d(256, eps=1e-05, momentum=0.1, affine=True, track_running_stats=True)\n",
      "      )\n",
      "    )\n",
      "    (layer4): Sequential(\n",
      "      (0): BasicBlock(\n",
      "        (conv1): Conv2d(256, 512, kernel_size=(3, 3), stride=(2, 2), padding=(1, 1), bias=False)\n",
      "        (bn1): BatchNorm2d(512, eps=1e-05, momentum=0.1, affine=True, track_running_stats=True)\n",
      "        (relu): ReLU(inplace=True)\n",
      "        (conv2): Conv2d(512, 512, kernel_size=(3, 3), stride=(1, 1), padding=(1, 1), bias=False)\n",
      "        (bn2): BatchNorm2d(512, eps=1e-05, momentum=0.1, affine=True, track_running_stats=True)\n",
      "        (downsample): Sequential(\n",
      "          (0): Conv2d(256, 512, kernel_size=(1, 1), stride=(2, 2), bias=False)\n",
      "          (1): BatchNorm2d(512, eps=1e-05, momentum=0.1, affine=True, track_running_stats=True)\n",
      "        )\n",
      "      )\n",
      "      (1): BasicBlock(\n",
      "        (conv1): Conv2d(512, 512, kernel_size=(3, 3), stride=(1, 1), padding=(1, 1), bias=False)\n",
      "        (bn1): BatchNorm2d(512, eps=1e-05, momentum=0.1, affine=True, track_running_stats=True)\n",
      "        (relu): ReLU(inplace=True)\n",
      "        (conv2): Conv2d(512, 512, kernel_size=(3, 3), stride=(1, 1), padding=(1, 1), bias=False)\n",
      "        (bn2): BatchNorm2d(512, eps=1e-05, momentum=0.1, affine=True, track_running_stats=True)\n",
      "      )\n",
      "    )\n",
      "    (avgpool): AdaptiveAvgPool2d(output_size=(1, 1))\n",
      "    (fc): Linear(in_features=512, out_features=10, bias=True)\n",
      "  )\n",
      ")\n"
     ]
    }
   ],
   "source": [
    "device = \"cpu\"\n",
    "if (torch.cuda.is_available()):\n",
    "    # if GPU available, use cuda (on a cpu, training will take a considerable length of time!)\n",
    "    device = \"cuda\"\n",
    "\n",
    "# Create an instance of the model class and allocate it to the device\n",
    "model = MyResnet(num_classes=10).to(device)\n",
    "\n",
    "print(model)"
   ]
  },
  {
   "cell_type": "code",
   "execution_count": 12,
   "id": "101b075d",
   "metadata": {
    "_kg_hide-input": true,
    "execution": {
     "iopub.execute_input": "2022-04-05T14:27:21.934422Z",
     "iopub.status.busy": "2022-04-05T14:27:21.933660Z",
     "iopub.status.idle": "2022-04-05T14:27:21.936316Z",
     "shell.execute_reply": "2022-04-05T14:27:21.935844Z",
     "shell.execute_reply.started": "2022-04-04T09:36:32.404057Z"
    },
    "papermill": {
     "duration": 0.047317,
     "end_time": "2022-04-05T14:27:21.936451",
     "exception": false,
     "start_time": "2022-04-05T14:27:21.889134",
     "status": "completed"
    },
    "tags": []
   },
   "outputs": [],
   "source": [
    "# c, d = 0, 0\n",
    "# for name, param in model.named_parameters():\n",
    "#     if param.requires_grad:\n",
    "#         c += 1\n",
    "#         print(name, param)\n",
    "#     else:\n",
    "#         d += 1\n",
    "# c,d"
   ]
  },
  {
   "cell_type": "code",
   "execution_count": 13,
   "id": "d64b7da3",
   "metadata": {
    "execution": {
     "iopub.execute_input": "2022-04-05T14:27:22.000345Z",
     "iopub.status.busy": "2022-04-05T14:27:21.999596Z",
     "iopub.status.idle": "2022-04-05T14:27:22.001532Z",
     "shell.execute_reply": "2022-04-05T14:27:22.001926Z",
     "shell.execute_reply.started": "2022-04-05T14:24:20.068601Z"
    },
    "papermill": {
     "duration": 0.037385,
     "end_time": "2022-04-05T14:27:22.002048",
     "exception": false,
     "start_time": "2022-04-05T14:27:21.964663",
     "status": "completed"
    },
    "tags": []
   },
   "outputs": [],
   "source": [
    "def train(model, device, train_loader, optimizer, epoch):\n",
    "    # Set the model to training mode\n",
    "    model.train()\n",
    "    train_loss = 0\n",
    "    print(\"Epoch:\", epoch)\n",
    "    correct = 0\n",
    "    # Process the images in batches\n",
    "    for batch_idx, (data, target) in enumerate(train_loader):\n",
    "        data, target = data.to(device), target.to(device)\n",
    "        \n",
    "        # Reset the optimizer\n",
    "        optimizer.zero_grad()\n",
    "        \n",
    "        # Push the data forward through the model layers\n",
    "        output = model(data)\n",
    "        \n",
    "        # Calculate the accuracy for this batch\n",
    "        _, predicted = torch.max(output.data, 1)\n",
    "        correct += torch.sum(target==predicted).item()\n",
    "\n",
    "        # Get the loss\n",
    "        loss = loss_criteria(output, target)\n",
    "\n",
    "        # Keep a running total\n",
    "        train_loss += loss.item()\n",
    "        \n",
    "        # Backpropagate\n",
    "        loss.backward()\n",
    "        optimizer.step()\n",
    "        \n",
    "        # Print metrics so we see some progress\n",
    "#         print('\\tTraining batch {} Loss: {:.6f}'.format(batch_idx + 1, loss.item()))\n",
    "            \n",
    "    # return average loss for the epoch\n",
    "    avg_loss = train_loss / (batch_idx+1)\n",
    "    acc = 100. * correct / len(train_loader.dataset)\n",
    "    print('Training set: Average loss: {:.6f}, Accuracy: {}/{} ({:.0f}%)'.format(\n",
    "        avg_loss, correct, len(train_loader.dataset),\n",
    "        100. * correct / len(train_loader.dataset)))\n",
    "    return avg_loss, acc"
   ]
  },
  {
   "cell_type": "code",
   "execution_count": 14,
   "id": "f8402e10",
   "metadata": {
    "execution": {
     "iopub.execute_input": "2022-04-05T14:27:22.063567Z",
     "iopub.status.busy": "2022-04-05T14:27:22.062914Z",
     "iopub.status.idle": "2022-04-05T14:27:22.065574Z",
     "shell.execute_reply": "2022-04-05T14:27:22.065155Z",
     "shell.execute_reply.started": "2022-04-05T14:24:29.110308Z"
    },
    "papermill": {
     "duration": 0.036295,
     "end_time": "2022-04-05T14:27:22.065678",
     "exception": false,
     "start_time": "2022-04-05T14:27:22.029383",
     "status": "completed"
    },
    "tags": []
   },
   "outputs": [],
   "source": [
    "def test(model, device, test_loader):\n",
    "    # Switch the model to evaluation mode (so we don't backpropagate or drop)\n",
    "    model.eval()\n",
    "    test_loss = 0\n",
    "    correct = 0\n",
    "    with torch.no_grad():\n",
    "        batch_count = 0\n",
    "        for data, target in test_loader:\n",
    "            batch_count += 1\n",
    "            data, target = data.to(device), target.to(device)\n",
    "            \n",
    "            # Get the predicted classes for this batch\n",
    "            output = model(data)\n",
    "            \n",
    "            # Calculate the loss for this batch\n",
    "            test_loss += loss_criteria(output, target).item()\n",
    "            \n",
    "            # Calculate the accuracy for this batch\n",
    "            _, predicted = torch.max(output.data, 1)\n",
    "            correct += torch.sum(target==predicted).item()\n",
    "\n",
    "    # Calculate the average loss and total accuracy for this epoch\n",
    "    avg_loss = test_loss / batch_count\n",
    "    acc = 100. * correct / len(test_loader.dataset)\n",
    "    print('Validation set: Average loss: {:.6f}, Accuracy: {}/{} ({:.0f}%)\\n'.format(\n",
    "        avg_loss, correct, len(test_loader.dataset),\n",
    "        100. * correct / len(test_loader.dataset)))\n",
    "    \n",
    "    # return average loss for the epoch\n",
    "    return avg_loss, acc"
   ]
  },
  {
   "cell_type": "code",
   "execution_count": 15,
   "id": "87079390",
   "metadata": {
    "execution": {
     "iopub.execute_input": "2022-04-05T14:27:22.125684Z",
     "iopub.status.busy": "2022-04-05T14:27:22.124972Z",
     "iopub.status.idle": "2022-04-05T14:27:22.127240Z",
     "shell.execute_reply": "2022-04-05T14:27:22.127607Z",
     "shell.execute_reply.started": "2022-04-04T09:42:33.961377Z"
    },
    "papermill": {
     "duration": 0.034555,
     "end_time": "2022-04-05T14:27:22.127753",
     "exception": false,
     "start_time": "2022-04-05T14:27:22.093198",
     "status": "completed"
    },
    "tags": []
   },
   "outputs": [],
   "source": [
    "import os\n",
    "os.makedirs(\"logs_resnet\", exist_ok=True)"
   ]
  },
  {
   "cell_type": "code",
   "execution_count": 16,
   "id": "740a68eb",
   "metadata": {
    "execution": {
     "iopub.execute_input": "2022-04-05T14:27:22.194643Z",
     "iopub.status.busy": "2022-04-05T14:27:22.193854Z",
     "iopub.status.idle": "2022-04-05T14:33:01.436573Z",
     "shell.execute_reply": "2022-04-05T14:33:01.436946Z",
     "shell.execute_reply.started": "2022-04-04T09:48:06.595655Z"
    },
    "papermill": {
     "duration": 339.282286,
     "end_time": "2022-04-05T14:33:01.437128",
     "exception": false,
     "start_time": "2022-04-05T14:27:22.154842",
     "status": "completed"
    },
    "tags": []
   },
   "outputs": [
    {
     "name": "stdout",
     "output_type": "stream",
     "text": [
      "Training on cuda\n",
      "Epoch: 1\n",
      "Training set: Average loss: 0.343280, Accuracy: 16752/18792 (89%)\n",
      "Validation set: Average loss: 0.136521, Accuracy: 2692/2808 (96%)\n",
      "\n",
      "Found best model at valiation loss = 0.13652078640656695\n",
      "\n",
      "Epoch: 2\n",
      "Training set: Average loss: 0.086430, Accuracy: 18273/18792 (97%)\n",
      "Validation set: Average loss: 0.130393, Accuracy: 2694/2808 (96%)\n",
      "\n",
      "Found best model at valiation loss = 0.13039280217734553\n",
      "\n",
      "Epoch: 3\n",
      "Training set: Average loss: 0.044961, Accuracy: 18500/18792 (98%)\n",
      "Validation set: Average loss: 0.136965, Accuracy: 2697/2808 (96%)\n",
      "\n",
      "Epoch: 4\n",
      "Training set: Average loss: 0.038981, Accuracy: 18570/18792 (99%)\n",
      "Validation set: Average loss: 0.120425, Accuracy: 2705/2808 (96%)\n",
      "\n",
      "Found best model at valiation loss = 0.12042451465579965\n",
      "\n",
      "Epoch: 5\n",
      "Training set: Average loss: 0.027470, Accuracy: 18630/18792 (99%)\n",
      "Validation set: Average loss: 0.125060, Accuracy: 2719/2808 (97%)\n",
      "\n",
      "Epoch: 6\n",
      "Training set: Average loss: 0.023787, Accuracy: 18646/18792 (99%)\n",
      "Validation set: Average loss: 0.125702, Accuracy: 2716/2808 (97%)\n",
      "\n",
      "Epoch: 7\n",
      "Training set: Average loss: 0.030215, Accuracy: 18613/18792 (99%)\n",
      "Validation set: Average loss: 0.136892, Accuracy: 2704/2808 (96%)\n",
      "\n",
      "Epoch: 8\n",
      "Training set: Average loss: 0.023510, Accuracy: 18618/18792 (99%)\n",
      "Validation set: Average loss: 0.133523, Accuracy: 2709/2808 (96%)\n",
      "\n",
      "Epoch: 9\n",
      "Training set: Average loss: 0.027787, Accuracy: 18615/18792 (99%)\n",
      "Validation set: Average loss: 0.131034, Accuracy: 2713/2808 (97%)\n",
      "\n",
      "Epoch: 10\n",
      "Training set: Average loss: 0.018349, Accuracy: 18665/18792 (99%)\n",
      "Validation set: Average loss: 0.124327, Accuracy: 2721/2808 (97%)\n",
      "\n",
      "Epoch: 11\n",
      "Training set: Average loss: 0.016803, Accuracy: 18684/18792 (99%)\n",
      "Validation set: Average loss: 0.112422, Accuracy: 2724/2808 (97%)\n",
      "\n",
      "Found best model at valiation loss = 0.11242206557949275\n",
      "\n",
      "Epoch: 12\n",
      "Training set: Average loss: 0.011346, Accuracy: 18725/18792 (100%)\n",
      "Validation set: Average loss: 0.115797, Accuracy: 2725/2808 (97%)\n",
      "\n",
      "Epoch: 13\n",
      "Training set: Average loss: 0.017972, Accuracy: 18677/18792 (99%)\n",
      "Validation set: Average loss: 0.129594, Accuracy: 2722/2808 (97%)\n",
      "\n",
      "Epoch: 14\n",
      "Training set: Average loss: 0.012560, Accuracy: 18712/18792 (100%)\n",
      "Validation set: Average loss: 0.144311, Accuracy: 2721/2808 (97%)\n",
      "\n",
      "Epoch: 15\n",
      "Training set: Average loss: 0.012198, Accuracy: 18718/18792 (100%)\n",
      "Validation set: Average loss: 0.130829, Accuracy: 2719/2808 (97%)\n",
      "\n",
      "Epoch: 16\n",
      "Training set: Average loss: 0.011691, Accuracy: 18722/18792 (100%)\n",
      "Validation set: Average loss: 0.171569, Accuracy: 2707/2808 (96%)\n",
      "\n",
      "Epoch: 17\n",
      "Training set: Average loss: 0.024491, Accuracy: 18648/18792 (99%)\n",
      "Validation set: Average loss: 0.159769, Accuracy: 2705/2808 (96%)\n",
      "\n",
      "Epoch: 18\n",
      "Training set: Average loss: 0.013359, Accuracy: 18711/18792 (100%)\n",
      "Validation set: Average loss: 0.134548, Accuracy: 2715/2808 (97%)\n",
      "\n",
      "Epoch: 19\n",
      "Training set: Average loss: 0.011698, Accuracy: 18717/18792 (100%)\n",
      "Validation set: Average loss: 0.123576, Accuracy: 2730/2808 (97%)\n",
      "\n",
      "Epoch: 20\n",
      "Training set: Average loss: 0.013359, Accuracy: 18724/18792 (100%)\n",
      "Validation set: Average loss: 0.150195, Accuracy: 2709/2808 (96%)\n",
      "\n"
     ]
    }
   ],
   "source": [
    "# Create an instance of the model class and allocate it to the device\n",
    "model = MyResnet(num_classes=10).to(device)\n",
    "\n",
    "# print(model)\n",
    "\n",
    "# Use an \"Adam\" optimizer to adjust weights\n",
    "optimizer = optim.Adam(model.parameters(), lr=0.0001)\n",
    "\n",
    "# Specify the loss criteria\n",
    "loss_criteria = nn.CrossEntropyLoss()\n",
    "\n",
    "# Track metrics in these arrays\n",
    "epoch_nums = []\n",
    "training_loss = []\n",
    "training_accuracy = []\n",
    "validation_loss = []\n",
    "validation_accuracy = []\n",
    "\n",
    "epochs = 20 \n",
    "k = 20 # patience\n",
    "up = 0\n",
    "\n",
    "min_validation_loss = float('inf')\n",
    "best_model_path = \"logs_resnet/best_model.pth\"\n",
    "\n",
    "print(f'Training on', device)\n",
    "for epoch in range(1, epochs + 1):\n",
    "        train_loss, train_acc = train(model, device, train_dataloader, optimizer, epoch)\n",
    "        val_loss, val_acc = test(model, device, val_dataloader)\n",
    "\n",
    "        epoch_nums.append(epoch)\n",
    "        training_loss.append(train_loss)\n",
    "        validation_loss.append(val_loss)\n",
    "        training_accuracy.append(train_acc)\n",
    "        validation_accuracy.append(val_acc)\n",
    "\n",
    "        if val_loss < min_validation_loss:\n",
    "            min_validation_loss = val_loss\n",
    "            torch.save(model, best_model_path)\n",
    "            print(f\"Found best model at valiation loss = {min_validation_loss}\\n\")\n",
    "        \n",
    "        if epoch >= k:\n",
    "            # if validation loss does not improve over last k epochs (patience) stop\n",
    "            if val_loss >= validation_loss[-2]:\n",
    "                up += 1\n",
    "            else:\n",
    "                up = 0\n",
    "\n",
    "            if up == k:\n",
    "                # early stopping\n",
    "                print(f\"Early Stopping Training: Validation Loss = {val_loss}\")\n",
    "                break"
   ]
  },
  {
   "cell_type": "markdown",
   "id": "d360c9f3",
   "metadata": {
    "papermill": {
     "duration": 0.039353,
     "end_time": "2022-04-05T14:33:01.516433",
     "exception": false,
     "start_time": "2022-04-05T14:33:01.477080",
     "status": "completed"
    },
    "tags": []
   },
   "source": [
    "# Saving and Loading Best Model"
   ]
  },
  {
   "cell_type": "markdown",
   "id": "1d74a330",
   "metadata": {
    "papermill": {
     "duration": 0.039176,
     "end_time": "2022-04-05T14:33:01.594944",
     "exception": false,
     "start_time": "2022-04-05T14:33:01.555768",
     "status": "completed"
    },
    "tags": []
   },
   "source": [
    "## Loading Best Model from Google Drive\n",
    "\n",
    "Run this section only if you want to download the best weight model from google drive into Kaggle VM"
   ]
  },
  {
   "cell_type": "code",
   "execution_count": 17,
   "id": "8d2e81c9",
   "metadata": {
    "execution": {
     "iopub.execute_input": "2022-04-05T14:33:01.683860Z",
     "iopub.status.busy": "2022-04-05T14:33:01.683108Z",
     "iopub.status.idle": "2022-04-05T14:33:29.536004Z",
     "shell.execute_reply": "2022-04-05T14:33:29.535067Z",
     "shell.execute_reply.started": "2022-04-05T14:24:44.677423Z"
    },
    "papermill": {
     "duration": 27.899694,
     "end_time": "2022-04-05T14:33:29.536178",
     "exception": false,
     "start_time": "2022-04-05T14:33:01.636484",
     "status": "completed"
    },
    "tags": []
   },
   "outputs": [
    {
     "name": "stdout",
     "output_type": "stream",
     "text": [
      "Collecting gdown\r\n",
      "  Downloading gdown-4.4.0.tar.gz (14 kB)\r\n",
      "  Installing build dependencies ... \u001b[?25l-\b \b\\\b \b|\b \b/\b \b-\b \bdone\r\n",
      "\u001b[?25h  Getting requirements to build wheel ... \u001b[?25l-\b \b\\\b \b|\b \b/\b \b-\b \bdone\r\n",
      "\u001b[?25h  Preparing metadata (pyproject.toml) ... \u001b[?25l-\b \b\\\b \b|\b \b/\b \b-\b \bdone\r\n",
      "\u001b[?25hRequirement already satisfied: requests[socks] in /opt/conda/lib/python3.7/site-packages (from gdown) (2.26.0)\r\n",
      "Requirement already satisfied: tqdm in /opt/conda/lib/python3.7/site-packages (from gdown) (4.62.3)\r\n",
      "Requirement already satisfied: beautifulsoup4 in /opt/conda/lib/python3.7/site-packages (from gdown) (4.10.0)\r\n",
      "Requirement already satisfied: six in /opt/conda/lib/python3.7/site-packages (from gdown) (1.16.0)\r\n",
      "Requirement already satisfied: filelock in /opt/conda/lib/python3.7/site-packages (from gdown) (3.6.0)\r\n",
      "Requirement already satisfied: soupsieve>1.2 in /opt/conda/lib/python3.7/site-packages (from beautifulsoup4->gdown) (2.3.1)\r\n",
      "Requirement already satisfied: urllib3<1.27,>=1.21.1 in /opt/conda/lib/python3.7/site-packages (from requests[socks]->gdown) (1.26.7)\r\n",
      "Requirement already satisfied: charset-normalizer~=2.0.0 in /opt/conda/lib/python3.7/site-packages (from requests[socks]->gdown) (2.0.9)\r\n",
      "Requirement already satisfied: idna<4,>=2.5 in /opt/conda/lib/python3.7/site-packages (from requests[socks]->gdown) (3.1)\r\n",
      "Requirement already satisfied: certifi>=2017.4.17 in /opt/conda/lib/python3.7/site-packages (from requests[socks]->gdown) (2021.10.8)\r\n",
      "Requirement already satisfied: PySocks!=1.5.7,>=1.5.6 in /opt/conda/lib/python3.7/site-packages (from requests[socks]->gdown) (1.7.1)\r\n",
      "Building wheels for collected packages: gdown\r\n",
      "  Building wheel for gdown (pyproject.toml) ... \u001b[?25l-\b \b\\\b \b|\b \b/\b \b-\b \b\\\b \b|\b \bdone\r\n",
      "\u001b[?25h  Created wheel for gdown: filename=gdown-4.4.0-py3-none-any.whl size=14775 sha256=32929e67eb4e2dbf31766699859a7f9e4621dc5cd355e5ed47b8a064749f1964\r\n",
      "  Stored in directory: /root/.cache/pip/wheels/fb/c3/0e/c4d8ff8bfcb0461afff199471449f642179b74968c15b7a69c\r\n",
      "Successfully built gdown\r\n",
      "Installing collected packages: gdown\r\n",
      "Successfully installed gdown-4.4.0\r\n",
      "\u001b[33mWARNING: Running pip as the 'root' user can result in broken permissions and conflicting behaviour with the system package manager. It is recommended to use a virtual environment instead: https://pip.pypa.io/warnings/venv\u001b[0m\r\n"
     ]
    },
    {
     "name": "stderr",
     "output_type": "stream",
     "text": [
      "Downloading...\n",
      "From: https://drive.google.com/uc?id=1ZgdqcGyUFATKelU_jdX2YXh6oTx7Tyhw\n",
      "To: /kaggle/working/CL2_Assignment_8_Task_2_Part_1.zip\n",
      "100%|██████████| 41.8M/41.8M [00:01<00:00, 28.9MB/s]\n"
     ]
    }
   ],
   "source": [
    "!pip install gdown\n",
    "\n",
    "import gdown\n",
    "from shutil import unpack_archive\n",
    "id = \"1ZgdqcGyUFATKelU_jdX2YXh6oTx7Tyhw\"\n",
    "\n",
    "zip_file_name = \"CL2_Assignment_8_Task_2_Part_1.zip\"\n",
    "extract_directory_name = \"CL2_Assignment_8_Task_2_Part_1_Weights\"\n",
    "\n",
    "gdown.download(id=id, output=zip_file_name)\n",
    "unpack_archive(zip_file_name, extract_directory_name)\n",
    "\n",
    "import os\n",
    "os.remove(zip_file_name)\n",
    "\n",
    "best_model_path = extract_directory_name + \"/\" + \"logs_resnet\" + \"/\" + \"best_model.pth\"\n",
    "best_model = torch.load(best_model_path)"
   ]
  },
  {
   "cell_type": "markdown",
   "id": "5c7cf257",
   "metadata": {
    "papermill": {
     "duration": 0.058357,
     "end_time": "2022-04-05T14:33:29.655921",
     "exception": false,
     "start_time": "2022-04-05T14:33:29.597564",
     "status": "completed"
    },
    "tags": []
   },
   "source": [
    "## Load model from Kaggle VM (current best model)\n",
    "\n",
    "Run this code if you want to load current best model (not Google Drive Model)"
   ]
  },
  {
   "cell_type": "code",
   "execution_count": 18,
   "id": "ac768a82",
   "metadata": {
    "execution": {
     "iopub.execute_input": "2022-04-05T14:33:29.766823Z",
     "iopub.status.busy": "2022-04-05T14:33:29.766039Z",
     "iopub.status.idle": "2022-04-05T14:33:29.914010Z",
     "shell.execute_reply": "2022-04-05T14:33:29.913494Z",
     "shell.execute_reply.started": "2022-04-04T09:45:23.445717Z"
    },
    "papermill": {
     "duration": 0.204472,
     "end_time": "2022-04-05T14:33:29.914227",
     "exception": false,
     "start_time": "2022-04-05T14:33:29.709755",
     "status": "completed"
    },
    "tags": []
   },
   "outputs": [],
   "source": [
    "torch.save(model, best_model_path)\n",
    "best_model = torch.load(best_model_path)"
   ]
  },
  {
   "cell_type": "markdown",
   "id": "fdb75b9d",
   "metadata": {
    "papermill": {
     "duration": 0.05452,
     "end_time": "2022-04-05T14:33:30.023302",
     "exception": false,
     "start_time": "2022-04-05T14:33:29.968782",
     "status": "completed"
    },
    "tags": []
   },
   "source": [
    "# Reporting Accuracy on Validation Data"
   ]
  },
  {
   "cell_type": "code",
   "execution_count": 19,
   "id": "6f803d53",
   "metadata": {
    "execution": {
     "iopub.execute_input": "2022-04-05T14:33:30.139590Z",
     "iopub.status.busy": "2022-04-05T14:33:30.138712Z",
     "iopub.status.idle": "2022-04-05T14:33:39.456030Z",
     "shell.execute_reply": "2022-04-05T14:33:39.456755Z",
     "shell.execute_reply.started": "2022-04-05T14:25:20.633890Z"
    },
    "papermill": {
     "duration": 9.379917,
     "end_time": "2022-04-05T14:33:39.456986",
     "exception": false,
     "start_time": "2022-04-05T14:33:30.077069",
     "status": "completed"
    },
    "tags": []
   },
   "outputs": [
    {
     "name": "stdout",
     "output_type": "stream",
     "text": [
      "Getting predictions from val set...\n",
      "Accuracy on validation data 96.47435897435898\n"
     ]
    }
   ],
   "source": [
    "classes = list(label_to_class_mapping.values())\n",
    "truelabels = []\n",
    "predictions = []\n",
    "best_model.eval()\n",
    "c, t = 0, 0\n",
    "print(\"Getting predictions from val set...\")\n",
    "with torch.no_grad():\n",
    "    for data, target in val_dataloader:\n",
    "        data = data.to(device)\n",
    "        for label in target.data.numpy():\n",
    "            truelabels.append(label)\n",
    "        for prediction in best_model(data).cpu().data.numpy().argmax(1):\n",
    "            predictions.append(prediction)\n",
    "\n",
    "for i in range(len(truelabels)):\n",
    "    if predictions[i] == truelabels[i]:\n",
    "        c += 1\n",
    "    t += 1\n",
    "\n",
    "print(f\"Accuracy on validation data {c*100/t}\")"
   ]
  },
  {
   "cell_type": "markdown",
   "id": "ff7c5d2c",
   "metadata": {
    "papermill": {
     "duration": 0.053445,
     "end_time": "2022-04-05T14:33:39.571444",
     "exception": false,
     "start_time": "2022-04-05T14:33:39.517999",
     "status": "completed"
    },
    "tags": []
   },
   "source": [
    "# Reporting accuracy on Test Data"
   ]
  },
  {
   "cell_type": "code",
   "execution_count": 20,
   "id": "81681dbc",
   "metadata": {
    "execution": {
     "iopub.execute_input": "2022-04-05T14:33:39.689264Z",
     "iopub.status.busy": "2022-04-05T14:33:39.688252Z",
     "iopub.status.idle": "2022-04-05T14:33:40.467728Z",
     "shell.execute_reply": "2022-04-05T14:33:40.468787Z",
     "shell.execute_reply.started": "2022-04-04T09:54:46.029796Z"
    },
    "papermill": {
     "duration": 0.843522,
     "end_time": "2022-04-05T14:33:40.469029",
     "exception": false,
     "start_time": "2022-04-05T14:33:39.625507",
     "status": "completed"
    },
    "tags": []
   },
   "outputs": [
    {
     "name": "stdout",
     "output_type": "stream",
     "text": [
      "Getting predictions from test set...\n",
      "Accuracy on test data 96.92592592592592\n"
     ]
    }
   ],
   "source": [
    "classes = list(label_to_class_mapping.values())\n",
    "truelabels = []\n",
    "predictions = []\n",
    "best_model.eval()\n",
    "c, t = 0, 0\n",
    "print(\"Getting predictions from test set...\")\n",
    "with torch.no_grad():\n",
    "    for data, target in test_dataloader:\n",
    "        data = data.to(device)\n",
    "        for label in target.data.numpy():\n",
    "            truelabels.append(label)\n",
    "        for prediction in best_model(data).cpu().data.numpy().argmax(1):\n",
    "            predictions.append(prediction)\n",
    "\n",
    "for i in range(len(truelabels)):\n",
    "    if predictions[i] == truelabels[i]:\n",
    "        c += 1\n",
    "    t += 1\n",
    "print(f\"Accuracy on test data {c*100/t}\")\n",
    "\n",
    "with open(\"predictions.csv\", \"w\") as f:\n",
    "    print(\"id,label\", file=f)\n",
    "    for i in range(len(truelabels)):\n",
    "        print(f\"{i},{predictions[i]}\", file=f)"
   ]
  },
  {
   "cell_type": "code",
   "execution_count": 21,
   "id": "b29ec04b",
   "metadata": {
    "execution": {
     "iopub.execute_input": "2022-04-05T14:33:40.604481Z",
     "iopub.status.busy": "2022-04-05T14:33:40.603505Z",
     "iopub.status.idle": "2022-04-05T14:33:41.895551Z",
     "shell.execute_reply": "2022-04-05T14:33:41.896219Z",
     "shell.execute_reply.started": "2022-04-04T09:45:44.48502Z"
    },
    "papermill": {
     "duration": 1.357109,
     "end_time": "2022-04-05T14:33:41.896454",
     "exception": false,
     "start_time": "2022-04-05T14:33:40.539345",
     "status": "completed"
    },
    "tags": []
   },
   "outputs": [
    {
     "name": "stdout",
     "output_type": "stream",
     "text": [
      "Getting predictions from test set...\n"
     ]
    },
    {
     "data": {
      "image/png": "[encoded data removed]",
      "text/plain": [
       "<Figure size 504x504 with 2 Axes>"
      ]
     },
     "metadata": {
      "needs_background": "light"
     },
     "output_type": "display_data"
    }
   ],
   "source": [
    "classes = list(label_to_class_mapping.values())\n",
    "truelabels = []\n",
    "predictions = []\n",
    "best_model.eval()\n",
    "print(\"Getting predictions from test set...\")\n",
    "with torch.no_grad():\n",
    "    for data, target in test_dataloader:\n",
    "        data = data.to(device)\n",
    "        for label in target.data.numpy():\n",
    "            truelabels.append(label)\n",
    "        for prediction in best_model(data).cpu().data.numpy().argmax(1):\n",
    "            predictions.append(prediction) \n",
    "\n",
    "# Plot the confusion matrix\n",
    "cm = confusion_matrix(truelabels, predictions)\n",
    "tick_marks = np.arange(len(classes))\n",
    "                       \n",
    "df_cm = pd.DataFrame(cm, index = classes, columns = classes)\n",
    "plt.figure(figsize = (7,7))\n",
    "sns.heatmap(df_cm, annot=True, cmap=plt.cm.Blues, fmt='g')\n",
    "plt.xlabel(\"Predicted Shape\", fontsize = 20)\n",
    "plt.ylabel(\"True Shape\", fontsize = 20)\n",
    "plt.show()"
   ]
  },
  {
   "cell_type": "markdown",
   "id": "b65240d6",
   "metadata": {
    "papermill": {
     "duration": 0.057183,
     "end_time": "2022-04-05T14:33:42.016028",
     "exception": false,
     "start_time": "2022-04-05T14:33:41.958845",
     "status": "completed"
    },
    "tags": []
   },
   "source": [
    "# Recall for each class"
   ]
  },
  {
   "cell_type": "code",
   "execution_count": 22,
   "id": "4db58b99",
   "metadata": {
    "execution": {
     "iopub.execute_input": "2022-04-05T14:33:42.137630Z",
     "iopub.status.busy": "2022-04-05T14:33:42.136832Z",
     "iopub.status.idle": "2022-04-05T14:33:42.154541Z",
     "shell.execute_reply": "2022-04-05T14:33:42.153993Z",
     "shell.execute_reply.started": "2022-04-04T09:45:54.163462Z"
    },
    "papermill": {
     "duration": 0.082135,
     "end_time": "2022-04-05T14:33:42.154661",
     "exception": false,
     "start_time": "2022-04-05T14:33:42.072526",
     "status": "completed"
    },
    "tags": []
   },
   "outputs": [
    {
     "name": "stdout",
     "output_type": "stream",
     "text": [
      "Recall for AnnualCrop is 0.9716666666666667\n",
      "Recall for Forest is 0.995\n",
      "Recall for HerbaceousVegetation is 0.945\n",
      "Recall for Highway is 0.964\n",
      "Recall for Industrial is 0.986\n",
      "Recall for Pasture is 0.9525\n",
      "Recall for PermanentCrop is 0.916\n",
      "Recall for Residential is 0.9816666666666667\n",
      "Recall for River is 0.974\n",
      "Recall for SeaLake is 0.995\n"
     ]
    }
   ],
   "source": [
    "from sklearn.metrics import classification_report\n",
    "report = classification_report(truelabels, predictions, target_names=classes,output_dict=True)\n",
    "\n",
    "for class_label in classes:\n",
    "    print(f\"Recall for {class_label} is {report[class_label]['recall']}\")"
   ]
  },
  {
   "cell_type": "markdown",
   "id": "7755f886",
   "metadata": {
    "papermill": {
     "duration": 0.056659,
     "end_time": "2022-04-05T14:33:42.268428",
     "exception": false,
     "start_time": "2022-04-05T14:33:42.211769",
     "status": "completed"
    },
    "tags": []
   },
   "source": [
    "## Plot of Accuracy and Loss for Trainining and Validation Sets"
   ]
  },
  {
   "cell_type": "code",
   "execution_count": 23,
   "id": "afcb34d4",
   "metadata": {
    "execution": {
     "iopub.execute_input": "2022-04-05T14:33:42.401232Z",
     "iopub.status.busy": "2022-04-05T14:33:42.388907Z",
     "iopub.status.idle": "2022-04-05T14:33:42.774561Z",
     "shell.execute_reply": "2022-04-05T14:33:42.775070Z",
     "shell.execute_reply.started": "2022-04-04T09:53:46.477851Z"
    },
    "papermill": {
     "duration": 0.449588,
     "end_time": "2022-04-05T14:33:42.775227",
     "exception": false,
     "start_time": "2022-04-05T14:33:42.325639",
     "status": "completed"
    },
    "tags": []
   },
   "outputs": [
    {
     "data": {
      "image/png": "[encoded data removed]",
      "text/plain": [
       "<Figure size 2160x1080 with 2 Axes>"
      ]
     },
     "metadata": {
      "needs_background": "light"
     },
     "output_type": "display_data"
    }
   ],
   "source": [
    "fig, (ax1, ax2) = plt.subplots(1, 2, figsize=(30, 15))\n",
    "\n",
    "ax1.plot(epoch_nums, training_loss)\n",
    "ax1.plot(epoch_nums, validation_loss)\n",
    "ax1.set_xlabel('epoch')\n",
    "ax1.set_ylabel('Loss')\n",
    "ax1.legend(['training', 'validation'], loc='upper right')\n",
    "\n",
    "ax2.plot(epoch_nums, training_accuracy)\n",
    "ax2.plot(epoch_nums, validation_accuracy)\n",
    "ax2.set_xlabel('epoch')\n",
    "ax2.set_ylabel('Accuracy (%)')\n",
    "ax2.legend(['training', 'validation'], loc='upper right')\n",
    "\n",
    "\n",
    "plt.show()"
   ]
  },
  {
   "cell_type": "code",
   "execution_count": null,
   "id": "6b4a7e7b",
   "metadata": {
    "papermill": {
     "duration": 0.059742,
     "end_time": "2022-04-05T14:33:42.894446",
     "exception": false,
     "start_time": "2022-04-05T14:33:42.834704",
     "status": "completed"
    },
    "tags": []
   },
   "outputs": [],
   "source": []
  }
 ],
 "metadata": {
  "kernelspec": {
   "display_name": "Python 3",
   "language": "python",
   "name": "python3"
  },
  "language_info": {
   "codemirror_mode": {
    "name": "ipython",
    "version": 3
   },
   "file_extension": ".py",
   "mimetype": "text/x-python",
   "name": "python",
   "nbconvert_exporter": "python",
   "pygments_lexer": "ipython3",
   "version": "3.7.12"
  },
  "papermill": {
   "default_parameters": {},
   "duration": 411.109854,
   "end_time": "2022-04-05T14:33:44.568298",
   "environment_variables": {},
   "exception": null,
   "input_path": "__notebook__.ipynb",
   "output_path": "__notebook__.ipynb",
   "parameters": {},
   "start_time": "2022-04-05T14:26:53.458444",
   "version": "2.3.3"
  },
  "widgets": {
   "application/vnd.jupyter.widget-state+json": {
    "state": {
     "20c5e6a097ab44e8a0ba6c0634e9eb2d": {
      "model_module": "@jupyter-widgets/base",
      "model_module_version": "1.2.0",
      "model_name": "LayoutModel",
      "state": {
       "_model_module": "@jupyter-widgets/base",
       "_model_module_version": "1.2.0",
       "_model_name": "LayoutModel",
       "_view_count": null,
       "_view_module": "@jupyter-widgets/base",
       "_view_module_version": "1.2.0",
       "_view_name": "LayoutView",
       "align_content": null,
       "align_items": null,
       "align_self": null,
       "border": null,
       "bottom": null,
       "display": null,
       "flex": null,
       "flex_flow": null,
       "grid_area": null,
       "grid_auto_columns": null,
       "grid_auto_flow": null,
       "grid_auto_rows": null,
       "grid_column": null,
       "grid_gap": null,
       "grid_row": null,
       "grid_template_areas": null,
       "grid_template_columns": null,
       "grid_template_rows": null,
       "height": null,
       "justify_content": null,
       "justify_items": null,
       "left": null,
       "margin": null,
       "max_height": null,
       "max_width": null,
       "min_height": null,
       "min_width": null,
       "object_fit": null,
       "object_position": null,
       "order": null,
       "overflow": null,
       "overflow_x": null,
       "overflow_y": null,
       "padding": null,
       "right": null,
       "top": null,
       "visibility": null,
       "width": null
      }
     },
     "21e62fa36e4c4b4fbecd6d5f7b3f0a60": {
      "model_module": "@jupyter-widgets/controls",
      "model_module_version": "1.5.0",
      "model_name": "ProgressStyleModel",
      "state": {
       "_model_module": "@jupyter-widgets/controls",
       "_model_module_version": "1.5.0",
       "_model_name": "ProgressStyleModel",
       "_view_count": null,
       "_view_module": "@jupyter-widgets/base",
       "_view_module_version": "1.2.0",
       "_view_name": "StyleView",
       "bar_color": null,
       "description_width": ""
      }
     },
     "384ca68e4a864b56acdff9c2fbd7e712": {
      "model_module": "@jupyter-widgets/controls",
      "model_module_version": "1.5.0",
      "model_name": "DescriptionStyleModel",
      "state": {
       "_model_module": "@jupyter-widgets/controls",
       "_model_module_version": "1.5.0",
       "_model_name": "DescriptionStyleModel",
       "_view_count": null,
       "_view_module": "@jupyter-widgets/base",
       "_view_module_version": "1.2.0",
       "_view_name": "StyleView",
       "description_width": ""
      }
     },
     "57066e9e781149379234d31a6cdf55bf": {
      "model_module": "@jupyter-widgets/controls",
      "model_module_version": "1.5.0",
      "model_name": "DescriptionStyleModel",
      "state": {
       "_model_module": "@jupyter-widgets/controls",
       "_model_module_version": "1.5.0",
       "_model_name": "DescriptionStyleModel",
       "_view_count": null,
       "_view_module": "@jupyter-widgets/base",
       "_view_module_version": "1.2.0",
       "_view_name": "StyleView",
       "description_width": ""
      }
     },
     "83e1781bebda400b804b496c7328aa76": {
      "model_module": "@jupyter-widgets/base",
      "model_module_version": "1.2.0",
      "model_name": "LayoutModel",
      "state": {
       "_model_module": "@jupyter-widgets/base",
       "_model_module_version": "1.2.0",
       "_model_name": "LayoutModel",
       "_view_count": null,
       "_view_module": "@jupyter-widgets/base",
       "_view_module_version": "1.2.0",
       "_view_name": "LayoutView",
       "align_content": null,
       "align_items": null,
       "align_self": null,
       "border": null,
       "bottom": null,
       "display": null,
       "flex": null,
       "flex_flow": null,
       "grid_area": null,
       "grid_auto_columns": null,
       "grid_auto_flow": null,
       "grid_auto_rows": null,
       "grid_column": null,
       "grid_gap": null,
       "grid_row": null,
       "grid_template_areas": null,
       "grid_template_columns": null,
       "grid_template_rows": null,
       "height": null,
       "justify_content": null,
       "justify_items": null,
       "left": null,
       "margin": null,
       "max_height": null,
       "max_width": null,
       "min_height": null,
       "min_width": null,
       "object_fit": null,
       "object_position": null,
       "order": null,
       "overflow": null,
       "overflow_x": null,
       "overflow_y": null,
       "padding": null,
       "right": null,
       "top": null,
       "visibility": null,
       "width": null
      }
     },
     "99edabcd52454d3eb137d630fd5771c2": {
      "model_module": "@jupyter-widgets/controls",
      "model_module_version": "1.5.0",
      "model_name": "HBoxModel",
      "state": {
       "_dom_classes": [],
       "_model_module": "@jupyter-widgets/controls",
       "_model_module_version": "1.5.0",
       "_model_name": "HBoxModel",
       "_view_count": null,
       "_view_module": "@jupyter-widgets/controls",
       "_view_module_version": "1.5.0",
       "_view_name": "HBoxView",
       "box_style": "",
       "children": [
        "IPY_MODEL_9e7c76d6672441839412f91cf699575f",
        "IPY_MODEL_bbc586ca22e94b8a96477ee790fd9d5f",
        "IPY_MODEL_f0928fd72aa04dff8be921a4e34b8d56"
       ],
       "layout": "IPY_MODEL_83e1781bebda400b804b496c7328aa76"
      }
     },
     "9e7c76d6672441839412f91cf699575f": {
      "model_module": "@jupyter-widgets/controls",
      "model_module_version": "1.5.0",
      "model_name": "HTMLModel",
      "state": {
       "_dom_classes": [],
       "_model_module": "@jupyter-widgets/controls",
       "_model_module_version": "1.5.0",
       "_model_name": "HTMLModel",
       "_view_count": null,
       "_view_module": "@jupyter-widgets/controls",
       "_view_module_version": "1.5.0",
       "_view_name": "HTMLView",
       "description": "",
       "description_tooltip": null,
       "layout": "IPY_MODEL_a9b69f4d26a74d46bfb9093763557baa",
       "placeholder": "​",
       "style": "IPY_MODEL_384ca68e4a864b56acdff9c2fbd7e712",
       "value": "100%"
      }
     },
     "a9b69f4d26a74d46bfb9093763557baa": {
      "model_module": "@jupyter-widgets/base",
      "model_module_version": "1.2.0",
      "model_name": "LayoutModel",
      "state": {
       "_model_module": "@jupyter-widgets/base",
       "_model_module_version": "1.2.0",
       "_model_name": "LayoutModel",
       "_view_count": null,
       "_view_module": "@jupyter-widgets/base",
       "_view_module_version": "1.2.0",
       "_view_name": "LayoutView",
       "align_content": null,
       "align_items": null,
       "align_self": null,
       "border": null,
       "bottom": null,
       "display": null,
       "flex": null,
       "flex_flow": null,
       "grid_area": null,
       "grid_auto_columns": null,
       "grid_auto_flow": null,
       "grid_auto_rows": null,
       "grid_column": null,
       "grid_gap": null,
       "grid_row": null,
       "grid_template_areas": null,
       "grid_template_columns": null,
       "grid_template_rows": null,
       "height": null,
       "justify_content": null,
       "justify_items": null,
       "left": null,
       "margin": null,
       "max_height": null,
       "max_width": null,
       "min_height": null,
       "min_width": null,
       "object_fit": null,
       "object_position": null,
       "order": null,
       "overflow": null,
       "overflow_x": null,
       "overflow_y": null,
       "padding": null,
       "right": null,
       "top": null,
       "visibility": null,
       "width": null
      }
     },
     "bbc586ca22e94b8a96477ee790fd9d5f": {
      "model_module": "@jupyter-widgets/controls",
      "model_module_version": "1.5.0",
      "model_name": "FloatProgressModel",
      "state": {
       "_dom_classes": [],
       "_model_module": "@jupyter-widgets/controls",
       "_model_module_version": "1.5.0",
       "_model_name": "FloatProgressModel",
       "_view_count": null,
       "_view_module": "@jupyter-widgets/controls",
       "_view_module_version": "1.5.0",
       "_view_name": "ProgressView",
       "bar_style": "success",
       "description": "",
       "description_tooltip": null,
       "layout": "IPY_MODEL_20c5e6a097ab44e8a0ba6c0634e9eb2d",
       "max": 46830571.0,
       "min": 0.0,
       "orientation": "horizontal",
       "style": "IPY_MODEL_21e62fa36e4c4b4fbecd6d5f7b3f0a60",
       "value": 46830571.0
      }
     },
     "ec7f75066fb842dcba5c8a97f9957b07": {
      "model_module": "@jupyter-widgets/base",
      "model_module_version": "1.2.0",
      "model_name": "LayoutModel",
      "state": {
       "_model_module": "@jupyter-widgets/base",
       "_model_module_version": "1.2.0",
       "_model_name": "LayoutModel",
       "_view_count": null,
       "_view_module": "@jupyter-widgets/base",
       "_view_module_version": "1.2.0",
       "_view_name": "LayoutView",
       "align_content": null,
       "align_items": null,
       "align_self": null,
       "border": null,
       "bottom": null,
       "display": null,
       "flex": null,
       "flex_flow": null,
       "grid_area": null,
       "grid_auto_columns": null,
       "grid_auto_flow": null,
       "grid_auto_rows": null,
       "grid_column": null,
       "grid_gap": null,
       "grid_row": null,
       "grid_template_areas": null,
       "grid_template_columns": null,
       "grid_template_rows": null,
       "height": null,
       "justify_content": null,
       "justify_items": null,
       "left": null,
       "margin": null,
       "max_height": null,
       "max_width": null,
       "min_height": null,
       "min_width": null,
       "object_fit": null,
       "object_position": null,
       "order": null,
       "overflow": null,
       "overflow_x": null,
       "overflow_y": null,
       "padding": null,
       "right": null,
       "top": null,
       "visibility": null,
       "width": null
      }
     },
     "f0928fd72aa04dff8be921a4e34b8d56": {
      "model_module": "@jupyter-widgets/controls",
      "model_module_version": "1.5.0",
      "model_name": "HTMLModel",
      "state": {
       "_dom_classes": [],
       "_model_module": "@jupyter-widgets/controls",
       "_model_module_version": "1.5.0",
       "_model_name": "HTMLModel",
       "_view_count": null,
       "_view_module": "@jupyter-widgets/controls",
       "_view_module_version": "1.5.0",
       "_view_name": "HTMLView",
       "description": "",
       "description_tooltip": null,
       "layout": "IPY_MODEL_ec7f75066fb842dcba5c8a97f9957b07",
       "placeholder": "​",
       "style": "IPY_MODEL_57066e9e781149379234d31a6cdf55bf",
       "value": " 44.7M/44.7M [00:02&lt;00:00, 31.4MB/s]"
      }
     }
    },
    "version_major": 2,
    "version_minor": 0
   }
  }
 },
 "nbformat": 4,
 "nbformat_minor": 5
}
